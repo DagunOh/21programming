{
 "cells": [
  {
   "cell_type": "markdown",
   "metadata": {},
   "source": [
    "`해리포터와 마법사의 돌 tf-idf dataframe, 워드 클라우드 생성`\n",
    "======\n",
    "\n",
    "\n",
    "----\n"
   ]
  },
  {
   "cell_type": "markdown",
   "metadata": {},
   "source": [
    "## 1.  https://movie.naver.com/movie/bi/mi/basic.nhn?code=30688 링크로 `해리포터와 마법사의 돌 줄거리 내용 크롤링`\n",
    "\n"
   ]
  },
  {
   "cell_type": "code",
   "execution_count": 1,
   "metadata": {},
   "outputs": [
    {
     "data": {
      "text/plain": [
       "'\\n\\n\\n\\n\\n'"
      ]
     },
     "execution_count": 1,
     "metadata": {},
     "output_type": "execute_result"
    }
   ],
   "source": [
    "# 줄거리 부분을 크롤링한 코드를 작성해주세요.\n",
    "# 아래 코드는 수정하지 마세요.\n",
    "\n",
    "from bs4 import BeautifulSoup\n",
    "import requests \n",
    "\n",
    "url= 'https://movie.naver.com/movie/bi/mi/basic.nhn?code=30688'\n",
    "\n",
    "\n",
    "'''\n",
    "\n",
    "\n",
    "\n",
    "\n",
    "'''"
   ]
  },
  {
   "cell_type": "markdown",
   "metadata": {},
   "source": [
    "----\n",
    "\n",
    "## 2. `전처리 & 명사 tokenizing`\n",
    "\n",
    "- 생각하신 방법대로 전처리해주세요.\n",
    "- ####  regex (정규식) 이용해서 해주시면 편리합니다.\n",
    "\n",
    "- #### 그 다음, Okt를 이용해서 명사만 추출해주세요.  \n",
    "\n",
    "\n",
    "- 불용어를 제거하고 싶으시다면 따로 for문을 만드셔야 합니다. 참고 코드 첨부합니다.\n",
    "\n",
    "~~~python\n",
    "stopwords = ['''원하시는 불용어 입력, string type으로''']\n",
    "noun_lst =[]\n",
    "for i in nouns:\n",
    "    if i not in stopwords:\n",
    "        noun_lst.append(i)\n",
    "~~~\n",
    "\n"
   ]
  },
  {
   "cell_type": "code",
   "execution_count": 2,
   "metadata": {},
   "outputs": [
    {
     "data": {
      "text/plain": [
       "'\\n\\n\\n\\n\\n'"
      ]
     },
     "execution_count": 2,
     "metadata": {},
     "output_type": "execute_result"
    }
   ],
   "source": [
    "### 정규식과 Okt 이용해 전처리 해주세요.\n",
    "### 불용어를 제거하여 더 예쁜 결과를 얻고 싶으시다면 위의 코드를 참고하세요.\n",
    "\n",
    "\n",
    "import re\n",
    "from konlpy.tag import Okt\n",
    "\n",
    "'''\n",
    "\n",
    "\n",
    "\n",
    "\n",
    "'''\n"
   ]
  },
  {
   "cell_type": "markdown",
   "metadata": {},
   "source": [
    "\n",
    "\n",
    "----\n",
    "\n",
    "## `Tf-idf dataframe 생성`\n",
    "\n",
    "\n",
    "- #### tfi-df 을 위해서는 텍스트 코퍼스가 list에 들어가있는 string 이어야 하지만, wordcloud를 만들기 위해서는 아예 string type이어야 합니다. \n",
    "- #### 때문에 우리는 다음과 같은 코드를 통해서 noun_list (변수 명은 다를 수 있습니다) 의 원소들을 모두 합친 `하나의 string 형태`를 만들어야 합니다.\n",
    "\n",
    "~~~python\n",
    "\n",
    "corpus=''\n",
    "for i in range(len(noun_lst)):\n",
    "    corpus += ' '+ noun_lst[i] \n",
    "    \n",
    "    \n",
    "~~~\n",
    "\n",
    "- 그 후, **`Tfi-df dataframe` 과 `wordcloud`를 만들어 주세요.**\n",
    "\n",
    "####  *단, dataframe의 열 이름은 0,1,3,4...가 아닌, 각각의 단어로 이루어져야 합니다.*\n"
   ]
  },
  {
   "cell_type": "code",
   "execution_count": 3,
   "metadata": {},
   "outputs": [
    {
     "data": {
      "text/plain": [
       "'\\n\\n\\n'"
      ]
     },
     "execution_count": 3,
     "metadata": {},
     "output_type": "execute_result"
    }
   ],
   "source": [
    "from sklearn.feature_extraction.text import TfidfVectorizer \n",
    "import pandas as pd\n",
    "\n",
    "'''\n",
    "\n",
    "\n",
    "'''"
   ]
  },
  {
   "cell_type": "markdown",
   "metadata": {},
   "source": [
    "----\n",
    "\n",
    "## ` WordCloud 시각화`\n",
    "\n",
    "- **맥북이신 분들은 폰트 경로 잘 설정하셔야 해요. 참고 코드 확인해주세요.**\n",
    "\n",
    "~~~python\n",
    "# 원하시는 폰트 경로 설정해주셔야 합니다.\n",
    "wordcloud = WordCloud(background_color='white',font_path = '/Library/Fonts/NanumSquareRoundB.ttf')\n",
    "\n",
    "~~~\n",
    "\n",
    "\n"
   ]
  },
  {
   "cell_type": "code",
   "execution_count": 4,
   "metadata": {},
   "outputs": [
    {
     "data": {
      "text/plain": [
       "'\\n\\n\\n\\n\\n'"
      ]
     },
     "execution_count": 4,
     "metadata": {},
     "output_type": "execute_result"
    }
   ],
   "source": [
    "from wordcloud import WordCloud\n",
    "import matplotlib.pyplot as plt\n",
    "from matplotlib import rc\n",
    "%matplotlib inline\n",
    "%config InlineBackend.figure_format = 'retina'\n",
    "plt.rcParams['axes.unicode_minus'] = False\n",
    "\n",
    "\n",
    "'''\n",
    "\n",
    "\n",
    "\n",
    "\n",
    "'''\n"
   ]
  },
  {
   "cell_type": "code",
   "execution_count": null,
   "metadata": {},
   "outputs": [],
   "source": []
  }
 ],
 "metadata": {
  "kernelspec": {
   "display_name": "Python 3",
   "language": "python",
   "name": "python3"
  },
  "language_info": {
   "codemirror_mode": {
    "name": "ipython",
    "version": 3
   },
   "file_extension": ".py",
   "mimetype": "text/x-python",
   "name": "python",
   "nbconvert_exporter": "python",
   "pygments_lexer": "ipython3",
   "version": "3.8.3"
  }
 },
 "nbformat": 4,
 "nbformat_minor": 4
}
