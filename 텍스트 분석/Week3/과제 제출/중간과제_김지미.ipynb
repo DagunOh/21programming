{
 "cells": [
  {
   "cell_type": "markdown",
   "metadata": {},
   "source": [
    "`해리포터와 마법사의 돌 tf-idf dataframe, 워드 클라우드 생성`\n",
    "======\n",
    "\n",
    "\n",
    "----\n"
   ]
  },
  {
   "cell_type": "markdown",
   "metadata": {},
   "source": [
    "## 1.  https://movie.naver.com/movie/bi/mi/basic.nhn?code=30688 링크로 `해리포터와 마법사의 돌 줄거리 내용 크롤링`\n",
    "\n"
   ]
  },
  {
   "cell_type": "code",
   "execution_count": 2,
   "metadata": {},
   "outputs": [],
   "source": [
    "# 줄거리 부분을 크롤링한 코드를 작성해주세요.\n",
    "# 아래 코드는 수정하지 마세요.\n",
    "\n",
    "from bs4 import BeautifulSoup\n",
    "import requests \n",
    "\n",
    "url= 'https://movie.naver.com/movie/bi/mi/basic.nhn?code=30688'\n",
    "res = requests.get(url)\n",
    "source = BeautifulSoup(res.text, 'html.parser')"
   ]
  },
  {
   "cell_type": "code",
   "execution_count": 7,
   "metadata": {},
   "outputs": [],
   "source": [
    "review_only =  source.find_all('div',{'class': \"story_area\"})"
   ]
  },
  {
   "cell_type": "code",
   "execution_count": 10,
   "metadata": {},
   "outputs": [
    {
     "data": {
      "text/plain": [
       "[<div class=\"story_area\">\n",
       " <div class=\"title_area\">\n",
       " <h4 class=\"h_story\"><strong class=\"blind\">줄거리</strong></h4>\n",
       " </div>\n",
       " <p class=\"con_tx\">해리 포터(다니엘 래드클리프 분)는 위압적인 버논 숙부(리챠드 그리피스 분)와 냉담한 이모 페투니아 (피오나 쇼 분), 욕심 많고 버릇없는 사촌 더즐리(해리 멜링 분) 밑에서 갖은 구박을 견디며 계단 밑 벽장에서 생활한다. 이모네 식구들 역시 해리와의 동거가 불편하기는 마찬가지. 이모 페투니아에겐 해리가 이상한(?) 언니 부부에 관한 기억을 떠올리게 만드는 달갑지 않은 존재다. 11살 생일이 며칠 앞으로 다가왔지만 한번도 생일파티를 치르거나 제대로 된 생일선물을 받아 본 적이 없는 해리로서는 특별히 신날 것도 기대 할 것도 없다. 11살 생일을 며칠 앞둔 어느 날 해리에게 초록색 잉크로 쓰여진 한 통의 편지가 배달된다. 그 편지의 내용은 다름 아닌 해리의 11살 생일을 맞이하여 전설적인“호그와트 마법학교”에서 보낸 입학초대장이었다. 그리고 해리의 생일을 축하하러 온 거인 해그리드는 해리가 모르고 있었던 해리의 진정한 정체를 알려주는데. 그것은 바로 해리가 굉장한 능력을 지닌 마법사라는 것!<br/>  해리는 해그리드의 지시대로 자신을 구박하던 이모네 집을 주저없이 떠나 호그와트행을 택한다. 런던의 킹스크로스 역에 있는 비밀의 9와 3/4 승장장에서 호그와트 특급열차를 탄 해리는 열차 안에서 같은 호그와트 마법학교 입학생인 헤르미온느 그레인저(엠마 왓슨 분)와 론 위즐리 (루퍼트 그린트 분)를 만나 친구가 된다. 이들과 함께 호그와트에 입학한 해리는, 놀라운 모험의 세계를 경험하며 갖가지 신기한 마법들을 배워 나간다. 또한 빗자루를 타고 공중을 날아다니며 경기하는 스릴 만점의 퀴디치 게임에서 스타로 탄생하게 되며, 용, 머리가 셋 달린 개, 유니콘, 켄타우루스, 히포그리프(말 몸에 독수리 머리와 날개를 가진 괴물)등 신비한 동물들과 마주치며 모험을 즐긴다. 그러던 어느 날 해리는 호그와트 지하실에 `영원한 생을 가져다주는 마법사의 돌'이 비밀리에 보관되어 있다는 것을 알게되고, 해리의 부모님을 죽인 볼드모트가 그 돌을 노린다는 사실도 알게 된다. 볼드모트는 바로 해리를 죽이려다 실패하고 이마에 번개모양의 흉터를 남긴 장본인이다. 해리는 볼드모트로부터 마법의 돌과 호그와트 마법학교를 지키기 위해 필사의 노력을 하는데...</p>\n",
       " </div>]"
      ]
     },
     "execution_count": 10,
     "metadata": {},
     "output_type": "execute_result"
    }
   ],
   "source": [
    "review_only"
   ]
  },
  {
   "cell_type": "code",
   "execution_count": 11,
   "metadata": {},
   "outputs": [
    {
     "name": "stdout",
     "output_type": "stream",
     "text": [
      "줄거리\n",
      "\n",
      "해리 포터(다니엘 래드클리프 분)는 위압적인 버논 숙부(리챠드 그리피스 분)와 냉담한 이모 페투니아 (피오나 쇼 분), 욕심 많고 버릇없는 사촌 더즐리(해리 멜링 분) 밑에서 갖은 구박을 견디며 계단 밑 벽장에서 생활한다. 이모네 식구들 역시 해리와의 동거가 불편하기는 마찬가지. 이모 페투니아에겐 해리가 이상한(?) 언니 부부에 관한 기억을 떠올리게 만드는 달갑지 않은 존재다. 11살 생일이 며칠 앞으로 다가왔지만 한번도 생일파티를 치르거나 제대로 된 생일선물을 받아 본 적이 없는 해리로서는 특별히 신날 것도 기대 할 것도 없다. 11살 생일을 며칠 앞둔 어느 날 해리에게 초록색 잉크로 쓰여진 한 통의 편지가 배달된다. 그 편지의 내용은 다름 아닌 해리의 11살 생일을 맞이하여 전설적인“호그와트 마법학교”에서 보낸 입학초대장이었다. 그리고 해리의 생일을 축하하러 온 거인 해그리드는 해리가 모르고 있었던 해리의 진정한 정체를 알려주는데. 그것은 바로 해리가 굉장한 능력을 지닌 마법사라는 것!  해리는 해그리드의 지시대로 자신을 구박하던 이모네 집을 주저없이 떠나 호그와트행을 택한다. 런던의 킹스크로스 역에 있는 비밀의 9와 3/4 승장장에서 호그와트 특급열차를 탄 해리는 열차 안에서 같은 호그와트 마법학교 입학생인 헤르미온느 그레인저(엠마 왓슨 분)와 론 위즐리 (루퍼트 그린트 분)를 만나 친구가 된다. 이들과 함께 호그와트에 입학한 해리는, 놀라운 모험의 세계를 경험하며 갖가지 신기한 마법들을 배워 나간다. 또한 빗자루를 타고 공중을 날아다니며 경기하는 스릴 만점의 퀴디치 게임에서 스타로 탄생하게 되며, 용, 머리가 셋 달린 개, 유니콘, 켄타우루스, 히포그리프(말 몸에 독수리 머리와 날개를 가진 괴물)등 신비한 동물들과 마주치며 모험을 즐긴다. 그러던 어느 날 해리는 호그와트 지하실에 `영원한 생을 가져다주는 마법사의 돌'이 비밀리에 보관되어 있다는 것을 알게되고, 해리의 부모님을 죽인 볼드모트가 그 돌을 노린다는 사실도 알게 된다. 볼드모트는 바로 해리를 죽이려다 실패하고 이마에 번개모양의 흉터를 남긴 장본인이다. 해리는 볼드모트로부터 마법의 돌과 호그와트 마법학교를 지키기 위해 필사의 노력을 하는데...\n"
     ]
    }
   ],
   "source": [
    "for review in review_only:\n",
    "       print(review.get_text().strip())"
   ]
  },
  {
   "cell_type": "markdown",
   "metadata": {},
   "source": [
    "----\n",
    "\n",
    "## 2. `전처리 & 명사 tokenizing`\n",
    "\n",
    "- 생각하신 방법대로 전처리해주세요.\n",
    "- ####  regex (정규식) 이용해서 해주시면 편리합니다.\n",
    "\n",
    "- #### 그 다음, Okt를 이용해서 명사만 추출해주세요.  \n",
    "\n",
    "\n",
    "- 불용어를 제거하고 싶으시다면 따로 for문을 만드셔야 합니다. 참고 코드 첨부합니다.\n",
    "\n",
    "~~~python\n",
    "stopwords = ['''원하시는 불용어 입력, string type으로''']\n",
    "noun_lst =[]\n",
    "for i in nouns:\n",
    "    if i not in stopwords:\n",
    "        noun_lst.append(i)\n",
    "~~~\n",
    "\n"
   ]
  },
  {
   "cell_type": "code",
   "execution_count": 55,
   "metadata": {},
   "outputs": [
    {
     "data": {
      "text/plain": [
       "\"해리 포터 다니엘 래드클리프 분 는 위압적인 버논 숙부 리챠드 그리피스 분 와 냉담한 이모 페투니아  피오나 쇼 분   욕심 많고 버릇없는 사촌 더즐리 해리 멜링 분  밑에서 갖은 구박을 견디며 계단 밑 벽장에서 생활한다  이모네 식구들 역시 해리와의 동거가 불편하기는 마찬가지  이모 페투니아에겐 해리가 이상한    언니 부부에 관한 기억을 떠올리게 만드는 달갑지 않은 존재다  11살 생일이 며칠 앞으로 다가왔지만 한번도 생일파티를 치르거나 제대로 된 생일선물을 받아 본 적이 없는 해리로서는 특별히 신날 것도 기대 할 것도 없다  11살 생일을 며칠 앞둔 어느 날 해리에게 초록색 잉크로 쓰여진 한 통의 편지가 배달된다  그 편지의 내용은 다름 아닌 해리의 11살 생일을 맞이하여 전설적인“호그와트 마법학교”에서 보낸 입학초대장이었다  그리고 해리의 생일을 축하하러 온 거인 해그리드는 해리가 모르고 있었던 해리의 진정한 정체를 알려주는데  그것은 바로 해리가 굉장한 능력을 지닌 마법사라는 것   해리는 해그리드의 지시대로 자신을 구박하던 이모네 집을 주저없이 떠나 호그와트행을 택한다  런던의 킹스크로스 역에 있는 비밀의 9와 3/4 승장장에서 호그와트 특급열차를 탄 해리는 열차 안에서 같은 호그와트 마법학교 입학생인 헤르미온느 그레인저 엠마 왓슨 분 와 론 위즐리  루퍼트 그린트 분 를 만나 친구가 된다  이들과 함께 호그와트에 입학한 해리는  놀라운 모험의 세계를 경험하며 갖가지 신기한 마법들을 배워 나간다  또한 빗자루를 타고 공중을 날아다니며 경기하는 스릴 만점의 퀴디치 게임에서 스타로 탄생하게 되며  용  머리가 셋 달린 개  유니콘  켄타우루스  히포그리프 말 몸에 독수리 머리와 날개를 가진 괴물 등 신비한 동물들과 마주치며 모험을 즐긴다  그러던 어느 날 해리는 호그와트 지하실에 `영원한 생을 가져다주는 마법사의 돌'이 비밀리에 보관되어 있다는 것을 알게되고  해리의 부모님을 죽인 볼드모트가 그 돌을 노린다는 사실도 알게 된다  볼드모트는 바로 해리를 죽이려다 실패하고 이마에 번개모양의 흉터를 남긴 장본인이다  해리는 볼드모트로부터 마법의 돌과 호그와트 마법학교를 지키기 위해 필사의 노력을 하는데   \""
      ]
     },
     "execution_count": 55,
     "metadata": {},
     "output_type": "execute_result"
    }
   ],
   "source": [
    "### 정규식과 Okt 이용해 전처리 해주세요.\n",
    "### 불용어를 제거하여 더 예쁜 결과를 얻고 싶으시다면 위의 코드를 참고하세요.\n",
    "\n",
    "\n",
    "import re\n",
    "from konlpy.tag import Okt\n",
    "\n",
    "temp = re.sub('[(),.?!'']',' ',text)\n",
    "temp\n",
    "\n",
    "\n",
    "#이부분 배울때는 문장으로만 배웠던 것 같은데 \n",
    "#이렇게 많은 건 어떻게 해야할지 몰라서 현지언니꺼 참고했어요ㅠ\n",
    "#텍스트에 가져다 붙일까도 싶었지만 그러면 다음에 적용이 될까?해서요ㅠ\n",
    "#text=\"해리 포터(다니엘 래드클리프 분)는 위압적인 버논 숙부(리챠드 그리피스 분)와 냉담한 이모 페투니아 (피오나 쇼 분), 욕심 많고 버릇없는 사촌 더즐리(해리 멜링 분) 밑에서 갖은 구박을 견디며 계단 밑 벽장에서 생활한다. 이모네 식구들 역시 해리와의 동거가 불편하기는 마찬가지. 이모 페투니아에겐 해리가 이상한(?) 언니 부부에 관한 기억을 떠올리게 만드는 달갑지 않은 존재다. 11살 생일이 며칠 앞으로 다가왔지만 한번도 생일파티를 치르거나 제대로 된 생일선물을 받아 본 적이 없는 해리로서는 특별히 신날 것도 기대 할 것도 없다. 11살 생일을 며칠 앞둔 어느 날 해리에게 초록색 잉크로 쓰여진 한 통의 편지가 배달된다. 그 편지의 내용은 다름 아닌 해리의 11살 생일을 맞이하여 전설적인“호그와트 마법학교”에서 보낸 입학초대장이었다. 그리고 해리의 생일을 축하하러 온 거인 해그리드는 해리가 모르고 있었던 해리의 진정한 정체를 알려주는데. 그것은 바로 해리가 굉장한 능력을 지닌 마법사라는 것!  해리는 해그리드의 지시대로 자신을 구박하던 이모네 집을 주저없이 떠나 호그와트행을 택한다. 런던의 킹스크로스 역에 있는 비밀의 9와 3/4 승장장에서 호그와트 특급열차를 탄 해리는 열차 안에서 같은 호그와트 마법학교 입학생인 헤르미온느 그레인저(엠마 왓슨 분)와 론 위즐리 (루퍼트 그린트 분)를 만나 친구가 된다. 이들과 함께 호그와트에 입학한 해리는, 놀라운 모험의 세계를 경험하며 갖가지 신기한 마법들을 배워 나간다. 또한 빗자루를 타고 공중을 날아다니며 경기하는 스릴 만점의 퀴디치 게임에서 스타로 탄생하게 되며, 용, 머리가 셋 달린 개, 유니콘, 켄타우루스, 히포그리프(말 몸에 독수리 머리와 날개를 가진 괴물)등 신비한 동물들과 마주치며 모험을 즐긴다. 그러던 어느 날 해리는 호그와트 지하실에 `영원한 생을 가져다주는 마법사의 돌'이 비밀리에 보관되어 있다는 것을 알게되고, 해리의 부모님을 죽인 볼드모트가 그 돌을 노린다는 사실도 알게 된다. 볼드모트는 바로 해리를 죽이려다 실패하고 이마에 번개모양의 흉터를 남긴 장본인이다. 해리는 볼드모트로부터 마법의 돌과 호그와트 마법학교를 지키기 위해 필사의 노력을 하는데...\"\n",
    "#list1=re.sub('[(),.?!]',' ',text)\n",
    "#list1\n",
    "#이렇게 할까 했지만..이러면 다음에 적용이 되나 싶어서ㅠ\n"
   ]
  },
  {
   "cell_type": "code",
   "execution_count": 54,
   "metadata": {},
   "outputs": [
    {
     "data": {
      "text/plain": [
       "['11', '11', '11', '9', '3', '4']"
      ]
     },
     "execution_count": 54,
     "metadata": {},
     "output_type": "execute_result"
    }
   ],
   "source": [
    "import re\n",
    "text=\"해리 포터(다니엘 래드클리프 분)는 위압적인 버논 숙부(리챠드 그리피스 분)와 냉담한 이모 페투니아 (피오나 쇼 분), 욕심 많고 버릇없는 사촌 더즐리(해리 멜링 분) 밑에서 갖은 구박을 견디며 계단 밑 벽장에서 생활한다. 이모네 식구들 역시 해리와의 동거가 불편하기는 마찬가지. 이모 페투니아에겐 해리가 이상한(?) 언니 부부에 관한 기억을 떠올리게 만드는 달갑지 않은 존재다. 11살 생일이 며칠 앞으로 다가왔지만 한번도 생일파티를 치르거나 제대로 된 생일선물을 받아 본 적이 없는 해리로서는 특별히 신날 것도 기대 할 것도 없다. 11살 생일을 며칠 앞둔 어느 날 해리에게 초록색 잉크로 쓰여진 한 통의 편지가 배달된다. 그 편지의 내용은 다름 아닌 해리의 11살 생일을 맞이하여 전설적인“호그와트 마법학교”에서 보낸 입학초대장이었다. 그리고 해리의 생일을 축하하러 온 거인 해그리드는 해리가 모르고 있었던 해리의 진정한 정체를 알려주는데. 그것은 바로 해리가 굉장한 능력을 지닌 마법사라는 것!  해리는 해그리드의 지시대로 자신을 구박하던 이모네 집을 주저없이 떠나 호그와트행을 택한다. 런던의 킹스크로스 역에 있는 비밀의 9와 3/4 승장장에서 호그와트 특급열차를 탄 해리는 열차 안에서 같은 호그와트 마법학교 입학생인 헤르미온느 그레인저(엠마 왓슨 분)와 론 위즐리 (루퍼트 그린트 분)를 만나 친구가 된다. 이들과 함께 호그와트에 입학한 해리는, 놀라운 모험의 세계를 경험하며 갖가지 신기한 마법들을 배워 나간다. 또한 빗자루를 타고 공중을 날아다니며 경기하는 스릴 만점의 퀴디치 게임에서 스타로 탄생하게 되며, 용, 머리가 셋 달린 개, 유니콘, 켄타우루스, 히포그리프(말 몸에 독수리 머리와 날개를 가진 괴물)등 신비한 동물들과 마주치며 모험을 즐긴다. 그러던 어느 날 해리는 호그와트 지하실에 `영원한 생을 가져다주는 마법사의 돌'이 비밀리에 보관되어 있다는 것을 알게되고, 해리의 부모님을 죽인 볼드모트가 그 돌을 노린다는 사실도 알게 된다. 볼드모트는 바로 해리를 죽이려다 실패하고 이마에 번개모양의 흉터를 남긴 장본인이다. 해리는 볼드모트로부터 마법의 돌과 호그와트 마법학교를 지키기 위해 필사의 노력을 하는데...\"\n",
    "re.findall(\"[0-9]+\",text)"
   ]
  },
  {
   "cell_type": "markdown",
   "metadata": {},
   "source": [
    "\n",
    "\n",
    "----\n",
    "\n",
    "## `Tf-idf dataframe 생성`\n",
    "\n",
    "\n",
    "- #### tfi-df 을 위해서는 텍스트 코퍼스가 list에 들어가있는 string 이어야 하지만, wordcloud를 만들기 위해서는 아예 string type이어야 합니다. \n",
    "- #### 때문에 우리는 다음과 같은 코드를 통해서 noun_list (변수 명은 다를 수 있습니다) 의 원소들을 모두 합친 `하나의 string 형태`를 만들어야 합니다.\n",
    "\n",
    "~~~python\n",
    "\n",
    "corpus=''\n",
    "for i in range(len(noun_lst)):\n",
    "    corpus += ' '+ noun_lst[i] \n",
    "    \n",
    "    \n",
    "~~~\n",
    "\n",
    "- 그 후, **`Tfi-df dataframe` 과 `wordcloud`를 만들어 주세요.**\n",
    "\n",
    "####  *단, dataframe의 열 이름은 0,1,3,4...가 아닌, 각각의 단어로 이루어져야 합니다.*\n"
   ]
  },
  {
   "cell_type": "code",
   "execution_count": 7,
   "metadata": {},
   "outputs": [],
   "source": [
    "from sklearn.feature_extraction.text import TfidfVectorizer \n",
    "\n",
    "text = ['어느 날해리에게 초록색 잉크로 쓰여진 한 통의 편지가 배달된다',\n",
    "        '그 편지의 내용은 다름 아닌 해리의 11살 생일을 맞이하여 전설적인',\n",
    "        '“호그와트 마법학교”에서 보낸 입학초대장이었다  그리고 해리의 생일을',\n",
    "        '축하하러 온 거인 해그리드는 해리가 모르고 있었던 해리의 진정한 정체를 알려주는']\n"
   ]
  },
  {
   "cell_type": "code",
   "execution_count": 8,
   "metadata": {},
   "outputs": [
    {
     "data": {
      "text/plain": [
       "{'어느': 15,\n",
       " '날해리에게': 3,\n",
       " '초록색': 23,\n",
       " '잉크로': 19,\n",
       " '쓰여진': 12,\n",
       " '통의': 25,\n",
       " '편지가': 26,\n",
       " '배달된다': 9,\n",
       " '편지의': 27,\n",
       " '내용은': 4,\n",
       " '다름': 5,\n",
       " '아닌': 13,\n",
       " '해리의': 30,\n",
       " '11살': 0,\n",
       " '생일을': 11,\n",
       " '맞이하여': 7,\n",
       " '전설적인': 20,\n",
       " '호그와트': 31,\n",
       " '마법학교': 6,\n",
       " '에서': 16,\n",
       " '보낸': 10,\n",
       " '입학초대장이었다': 17,\n",
       " '그리고': 2,\n",
       " '축하하러': 24,\n",
       " '거인': 1,\n",
       " '해그리드는': 28,\n",
       " '해리가': 29,\n",
       " '모르고': 8,\n",
       " '있었던': 18,\n",
       " '진정한': 22,\n",
       " '정체를': 21,\n",
       " '알려주는': 14}"
      ]
     },
     "execution_count": 8,
     "metadata": {},
     "output_type": "execute_result"
    }
   ],
   "source": [
    "vectorizer = TfidfVectorizer()\n",
    "vectorizer.fit(text)\n",
    "vectorizer.vocabulary_"
   ]
  },
  {
   "cell_type": "code",
   "execution_count": 9,
   "metadata": {},
   "outputs": [
    {
     "data": {
      "text/plain": [
       "[('11살', 0),\n",
       " ('거인', 1),\n",
       " ('그리고', 2),\n",
       " ('날해리에게', 3),\n",
       " ('내용은', 4),\n",
       " ('다름', 5),\n",
       " ('마법학교', 6),\n",
       " ('맞이하여', 7),\n",
       " ('모르고', 8),\n",
       " ('배달된다', 9),\n",
       " ('보낸', 10),\n",
       " ('생일을', 11),\n",
       " ('쓰여진', 12),\n",
       " ('아닌', 13),\n",
       " ('알려주는', 14),\n",
       " ('어느', 15),\n",
       " ('에서', 16),\n",
       " ('입학초대장이었다', 17),\n",
       " ('있었던', 18),\n",
       " ('잉크로', 19),\n",
       " ('전설적인', 20),\n",
       " ('정체를', 21),\n",
       " ('진정한', 22),\n",
       " ('초록색', 23),\n",
       " ('축하하러', 24),\n",
       " ('통의', 25),\n",
       " ('편지가', 26),\n",
       " ('편지의', 27),\n",
       " ('해그리드는', 28),\n",
       " ('해리가', 29),\n",
       " ('해리의', 30),\n",
       " ('호그와트', 31)]"
      ]
     },
     "execution_count": 9,
     "metadata": {},
     "output_type": "execute_result"
    }
   ],
   "source": [
    "sorted(vectorizer.vocabulary_.items())"
   ]
  },
  {
   "cell_type": "code",
   "execution_count": 10,
   "metadata": {},
   "outputs": [
    {
     "data": {
      "text/plain": [
       "array([[0.        , 0.        , 0.        , 0.35355339, 0.        ,\n",
       "        0.        , 0.        , 0.        , 0.        , 0.35355339,\n",
       "        0.        , 0.        , 0.35355339, 0.        , 0.        ,\n",
       "        0.35355339, 0.        , 0.        , 0.        , 0.35355339,\n",
       "        0.        , 0.        , 0.        , 0.35355339, 0.        ,\n",
       "        0.35355339, 0.35355339, 0.        , 0.        , 0.        ,\n",
       "        0.        , 0.        ],\n",
       "       [0.35291425, 0.        , 0.        , 0.        , 0.35291425,\n",
       "        0.35291425, 0.        , 0.35291425, 0.        , 0.        ,\n",
       "        0.        , 0.27824164, 0.        , 0.35291425, 0.        ,\n",
       "        0.        , 0.        , 0.        , 0.        , 0.        ,\n",
       "        0.35291425, 0.        , 0.        , 0.        , 0.        ,\n",
       "        0.        , 0.        , 0.35291425, 0.        , 0.        ,\n",
       "        0.22526059, 0.        ],\n",
       "       [0.        , 0.        , 0.37718389, 0.        , 0.        ,\n",
       "        0.        , 0.37718389, 0.        , 0.        , 0.        ,\n",
       "        0.37718389, 0.29737611, 0.        , 0.        , 0.        ,\n",
       "        0.        , 0.37718389, 0.37718389, 0.        , 0.        ,\n",
       "        0.        , 0.        , 0.        , 0.        , 0.        ,\n",
       "        0.        , 0.        , 0.        , 0.        , 0.        ,\n",
       "        0.24075159, 0.37718389],\n",
       "       [0.        , 0.32603555, 0.        , 0.        , 0.        ,\n",
       "        0.        , 0.        , 0.        , 0.32603555, 0.        ,\n",
       "        0.        , 0.        , 0.        , 0.        , 0.32603555,\n",
       "        0.        , 0.        , 0.        , 0.32603555, 0.        ,\n",
       "        0.        , 0.32603555, 0.32603555, 0.        , 0.32603555,\n",
       "        0.        , 0.        , 0.        , 0.32603555, 0.32603555,\n",
       "        0.20810427, 0.        ]])"
      ]
     },
     "execution_count": 10,
     "metadata": {},
     "output_type": "execute_result"
    }
   ],
   "source": [
    "array = vectorizer.transform(text).toarray() \n",
    "array"
   ]
  },
  {
   "cell_type": "code",
   "execution_count": 11,
   "metadata": {},
   "outputs": [
    {
     "data": {
      "text/html": [
       "<div>\n",
       "<style scoped>\n",
       "    .dataframe tbody tr th:only-of-type {\n",
       "        vertical-align: middle;\n",
       "    }\n",
       "\n",
       "    .dataframe tbody tr th {\n",
       "        vertical-align: top;\n",
       "    }\n",
       "\n",
       "    .dataframe thead th {\n",
       "        text-align: right;\n",
       "    }\n",
       "</style>\n",
       "<table border=\"1\" class=\"dataframe\">\n",
       "  <thead>\n",
       "    <tr style=\"text-align: right;\">\n",
       "      <th></th>\n",
       "      <th>0</th>\n",
       "      <th>1</th>\n",
       "      <th>2</th>\n",
       "      <th>3</th>\n",
       "      <th>4</th>\n",
       "      <th>5</th>\n",
       "      <th>6</th>\n",
       "      <th>7</th>\n",
       "      <th>8</th>\n",
       "      <th>9</th>\n",
       "      <th>...</th>\n",
       "      <th>22</th>\n",
       "      <th>23</th>\n",
       "      <th>24</th>\n",
       "      <th>25</th>\n",
       "      <th>26</th>\n",
       "      <th>27</th>\n",
       "      <th>28</th>\n",
       "      <th>29</th>\n",
       "      <th>30</th>\n",
       "      <th>31</th>\n",
       "    </tr>\n",
       "  </thead>\n",
       "  <tbody>\n",
       "    <tr>\n",
       "      <th>0</th>\n",
       "      <td>0.000000</td>\n",
       "      <td>0.000000</td>\n",
       "      <td>0.000000</td>\n",
       "      <td>0.353553</td>\n",
       "      <td>0.000000</td>\n",
       "      <td>0.000000</td>\n",
       "      <td>0.000000</td>\n",
       "      <td>0.000000</td>\n",
       "      <td>0.000000</td>\n",
       "      <td>0.353553</td>\n",
       "      <td>...</td>\n",
       "      <td>0.000000</td>\n",
       "      <td>0.353553</td>\n",
       "      <td>0.000000</td>\n",
       "      <td>0.353553</td>\n",
       "      <td>0.353553</td>\n",
       "      <td>0.000000</td>\n",
       "      <td>0.000000</td>\n",
       "      <td>0.000000</td>\n",
       "      <td>0.000000</td>\n",
       "      <td>0.000000</td>\n",
       "    </tr>\n",
       "    <tr>\n",
       "      <th>1</th>\n",
       "      <td>0.352914</td>\n",
       "      <td>0.000000</td>\n",
       "      <td>0.000000</td>\n",
       "      <td>0.000000</td>\n",
       "      <td>0.352914</td>\n",
       "      <td>0.352914</td>\n",
       "      <td>0.000000</td>\n",
       "      <td>0.352914</td>\n",
       "      <td>0.000000</td>\n",
       "      <td>0.000000</td>\n",
       "      <td>...</td>\n",
       "      <td>0.000000</td>\n",
       "      <td>0.000000</td>\n",
       "      <td>0.000000</td>\n",
       "      <td>0.000000</td>\n",
       "      <td>0.000000</td>\n",
       "      <td>0.352914</td>\n",
       "      <td>0.000000</td>\n",
       "      <td>0.000000</td>\n",
       "      <td>0.225261</td>\n",
       "      <td>0.000000</td>\n",
       "    </tr>\n",
       "    <tr>\n",
       "      <th>2</th>\n",
       "      <td>0.000000</td>\n",
       "      <td>0.000000</td>\n",
       "      <td>0.377184</td>\n",
       "      <td>0.000000</td>\n",
       "      <td>0.000000</td>\n",
       "      <td>0.000000</td>\n",
       "      <td>0.377184</td>\n",
       "      <td>0.000000</td>\n",
       "      <td>0.000000</td>\n",
       "      <td>0.000000</td>\n",
       "      <td>...</td>\n",
       "      <td>0.000000</td>\n",
       "      <td>0.000000</td>\n",
       "      <td>0.000000</td>\n",
       "      <td>0.000000</td>\n",
       "      <td>0.000000</td>\n",
       "      <td>0.000000</td>\n",
       "      <td>0.000000</td>\n",
       "      <td>0.000000</td>\n",
       "      <td>0.240752</td>\n",
       "      <td>0.377184</td>\n",
       "    </tr>\n",
       "    <tr>\n",
       "      <th>3</th>\n",
       "      <td>0.000000</td>\n",
       "      <td>0.326036</td>\n",
       "      <td>0.000000</td>\n",
       "      <td>0.000000</td>\n",
       "      <td>0.000000</td>\n",
       "      <td>0.000000</td>\n",
       "      <td>0.000000</td>\n",
       "      <td>0.000000</td>\n",
       "      <td>0.326036</td>\n",
       "      <td>0.000000</td>\n",
       "      <td>...</td>\n",
       "      <td>0.326036</td>\n",
       "      <td>0.000000</td>\n",
       "      <td>0.326036</td>\n",
       "      <td>0.000000</td>\n",
       "      <td>0.000000</td>\n",
       "      <td>0.000000</td>\n",
       "      <td>0.326036</td>\n",
       "      <td>0.326036</td>\n",
       "      <td>0.208104</td>\n",
       "      <td>0.000000</td>\n",
       "    </tr>\n",
       "  </tbody>\n",
       "</table>\n",
       "<p>4 rows × 32 columns</p>\n",
       "</div>"
      ],
      "text/plain": [
       "         0         1         2         3         4         5         6   \\\n",
       "0  0.000000  0.000000  0.000000  0.353553  0.000000  0.000000  0.000000   \n",
       "1  0.352914  0.000000  0.000000  0.000000  0.352914  0.352914  0.000000   \n",
       "2  0.000000  0.000000  0.377184  0.000000  0.000000  0.000000  0.377184   \n",
       "3  0.000000  0.326036  0.000000  0.000000  0.000000  0.000000  0.000000   \n",
       "\n",
       "         7         8         9   ...        22        23        24        25  \\\n",
       "0  0.000000  0.000000  0.353553  ...  0.000000  0.353553  0.000000  0.353553   \n",
       "1  0.352914  0.000000  0.000000  ...  0.000000  0.000000  0.000000  0.000000   \n",
       "2  0.000000  0.000000  0.000000  ...  0.000000  0.000000  0.000000  0.000000   \n",
       "3  0.000000  0.326036  0.000000  ...  0.326036  0.000000  0.326036  0.000000   \n",
       "\n",
       "         26        27        28        29        30        31  \n",
       "0  0.353553  0.000000  0.000000  0.000000  0.000000  0.000000  \n",
       "1  0.000000  0.352914  0.000000  0.000000  0.225261  0.000000  \n",
       "2  0.000000  0.000000  0.000000  0.000000  0.240752  0.377184  \n",
       "3  0.000000  0.000000  0.326036  0.326036  0.208104  0.000000  \n",
       "\n",
       "[4 rows x 32 columns]"
      ]
     },
     "execution_count": 11,
     "metadata": {},
     "output_type": "execute_result"
    }
   ],
   "source": [
    "import pandas as pd\n",
    "\n",
    "df =pd.DataFrame(array)\n",
    "df"
   ]
  },
  {
   "cell_type": "markdown",
   "metadata": {},
   "source": [
    "----\n",
    "\n",
    "## ` WordCloud 시각화`\n",
    "\n",
    "- **맥북이신 분들은 폰트 경로 잘 설정하셔야 해요. 참고 코드 확인해주세요.**\n",
    "\n",
    "~~~python\n",
    "# 원하시는 폰트 경로 설정해주셔야 합니다.\n",
    "wordcloud = WordCloud(background_color='white',font_path = '/Library/Fonts/NanumSquareRoundB.ttf')\n",
    "\n",
    "~~~\n",
    "\n",
    "\n"
   ]
  },
  {
   "cell_type": "code",
   "execution_count": 20,
   "metadata": {},
   "outputs": [],
   "source": [
    "from wordcloud import WordCloud\n",
    "import matplotlib.pyplot as plt\n",
    "from matplotlib import rc\n",
    "%matplotlib inline\n",
    "%config InlineBackend.figure_format = 'retina'\n",
    "plt.rcParams['axes.unicode_minus'] = False\n",
    "\n",
    "text = '해리 포터(다니엘 래드클리프 분)는 위압적인 버논 숙부(리챠드 그리피스 분)와 냉담한 이모 페투니아 (피오나 쇼 분)'\n",
    "\n"
   ]
  },
  {
   "cell_type": "code",
   "execution_count": 30,
   "metadata": {},
   "outputs": [],
   "source": [
    "wordcloud = WordCloud(background_color='white')\n",
    "wordcloud = wordcloud.generate_from_text(text)"
   ]
  },
  {
   "cell_type": "code",
   "execution_count": 31,
   "metadata": {},
   "outputs": [
    {
     "data": {
      "image/png": "[encoded data removed]",
      "text/plain": [
       "<Figure size 1440x1440 with 1 Axes>"
      ]
     },
     "metadata": {
      "image/png": {
       "height": 572,
       "width": 1130
      },
      "needs_background": "light"
     },
     "output_type": "display_data"
    }
   ],
   "source": [
    "plt.figure(figsize=(20,20))\n",
    "plt.imshow(wordcloud,interpolation=\"bilinear\")\n",
    "plt.axis('off')\n",
    "plt.show() \n"
   ]
  },
  {
   "cell_type": "code",
   "execution_count": null,
   "metadata": {},
   "outputs": [],
   "source": []
  }
 ],
 "metadata": {
  "kernelspec": {
   "display_name": "Python 3",
   "language": "python",
   "name": "python3"
  },
  "language_info": {
   "codemirror_mode": {
    "name": "ipython",
    "version": 3
   },
   "file_extension": ".py",
   "mimetype": "text/x-python",
   "name": "python",
   "nbconvert_exporter": "python",
   "pygments_lexer": "ipython3",
   "version": "3.8.5"
  }
 },
 "nbformat": 4,
 "nbformat_minor": 4
}
