{
 "cells": [
  {
   "cell_type": "markdown",
   "metadata": {},
   "source": [
    "웹 크롤링\n",
    "=========\n",
    "\n",
    "*how to?*\n",
    "---------\n",
    "\n",
    "> ### **1.필요한 모듈 불러오기**\n",
    ">>     from bs4 import BeautifulSoup , import requests \n",
    "> ### **2. html 구조 이해하기**\n",
    ">> * mac-> 개발자 도구 활성화 - 페이지 소스 보기/ 윈도우 - F12\n",
    ">> * <여는태그 속성명=\"속성값\">내용</닫는태그>\n",
    ">> * <태그 class = \"클래스명\" > \n",
    ">>> ex) div : 구역 표시하는 태그, p : 문단 표시하는 태그, body : 실제적으로 보여지는 부분 나타내는 태그...\n",
    "\n",
    "> ### **3.텍스트 잘 뽑아오기**\n",
    ">>    위치 정확히 지정, 클래스나 태그 명 잘 보기.\n",
    ">>>     find(id='id명')\n",
    "    findAll('tag') or find_all('tag)\n",
    "    findAll('tag', {class:'class'})\n",
    "    find('class')\n",
    "    select('위계구조')\n",
    "    select_one('원하는 것')\n",
    "    \n",
    ">>>>**Select 와 find의 차이점**\n",
    ">>>>>select finds multiple instances and returns a list, find finds the first, so they don't do the same thing. select_one would be the equivalent to find.\n",
    "    \n",
    ">>>> \n",
    "    get_text()\n",
    "    text()\n",
    "    next_sibling : 텍스트 노드인 경우\n",
    "\n",
    "\n",
    "\n",
    "### 1. IDMB 영화 리뷰 크롤링"
   ]
  },
  {
   "cell_type": "code",
   "execution_count": 6,
   "metadata": {},
   "outputs": [],
   "source": [
    "# 1. 웹크롤링에 필요한 2가지 모듈 호출\n",
    "# from urllib.request import urlopen # 특정 웹서버에 접근\n",
    "from bs4 import BeautifulSoup # 웹페이지 내용구조 해석\n",
    "import requests #파이썬에서 http 요청 보내는 라이브러리 \n",
    "# from urllib import parse\n",
    "from bs4 import BeautifulSoup #html 구조에서 간딴히 정보 빼내기 위해 사용하는 라이브러리\n",
    "\n",
    "#url 지정\n",
    "url= 'https://www.imdb.com/title/tt4154756/reviews?ref_=tt_ql_3'\n",
    "res = requests.get(url)\n",
    "\n",
    "#source 파일에....\n",
    "source = BeautifulSoup(res.text, 'html.parser')"
   ]
  },
  {
   "cell_type": "code",
   "execution_count": 8,
   "metadata": {},
   "outputs": [],
   "source": [
    "# review_list = source.find_all('div', {'class': 'imdb-user-review'})\n",
    "# review_p = source.p.string\n",
    "# review_list2 = source.find_all(['a','span'])\n",
    "review_only =  source.find_all('div',{'class': \"text show-more__control\"})"
   ]
  },
  {
   "cell_type": "code",
   "execution_count": 23,
   "metadata": {},
   "outputs": [
    {
     "data": {
      "text/plain": [
       "<div class=\"text show-more__control\">I went and looked, and I want to express my thoughts.<br/><br/>I went to this film with very high expectations, with a sense of something. I went to him twice, the first time, myself, and the second with the family, and I was even surprised that my mother, sister and dad (who do not understand this movie at all) brought unreal pleasure and an ocean of emotions.<br/><br/>Each frame, each scene does not let you get bored, from the Marvel logo, and to the stage after the credits. Favorite heroes once again experienced side by side and you feel it, you are completely absorbed in a hurricane of events and you are watching it in one breath. In comparison with the War of Infinity, even the Confrontation looks like an ordinary fight in the sandbox.<br/><br/>Uuuu, and the villain, the best as for me the best in this kirovoveselennoy, he is not just a bot at once, without motivation, no, it's just the opposite. I liked Thanos so much that you do not want to, and he began to impress me, in terms of his convictions (I had it only once, with Joker Heath Ledger). He has feelings, he makes choices, he's alive.<br/><br/>Tense scenes are beautiful, in one moment I still let off a meager male tear (and this happens to me very, very rarely). What about the humor, the jokes are correct for me, and they do not bother you like Thor: Ragnarok, although in the beginning they look a little tight. Well, the action, it is very high-quality, and in comparison with the Black Panther is generally ideal.<br/><br/>And of course the film can not be without punctures. The lack of predictability of some story lines, and a couple of moments that were very predictable, but they are fade against the background of all this scale.<br/><br/>Yes, you will not find anything in this film about something, something, but, what, what, what, steep humor. Thanks to Marvel and of course the Rousseau brothers, the beautiful actors and the wonderful movie that I've been waiting for for 3 years.<br/><br/>Out of 10, I give the War of Infinity 9.</div>"
      ]
     },
     "execution_count": 23,
     "metadata": {},
     "output_type": "execute_result"
    }
   ],
   "source": [
    "review_only[20]"
   ]
  },
  {
   "cell_type": "code",
   "execution_count": 24,
   "metadata": {},
   "outputs": [
    {
     "name": "stdout",
     "output_type": "stream",
     "text": [
      "This movie portrays a villain that by far has been the best out of all the other Marvel antagonists. It shows his personal conflicts, his purpose, as well as his cruelty. The heroes of this film are overshadowed by this, but the ending really makes a mark on the audience.\n",
      "This film is way better than endgame!\n",
      "The actions better\n",
      "The writings better\n",
      "The dialogues better\n",
      "The cgi is better\n",
      "More shocks and more emotional.\n",
      "Watching both in the cinema , the reactions to this in cinema was unbelievable compared to endgame. Dont get me wrong endgame is good but to say its the best marvel film is jus marvel fan boys being stupid.\n",
      "I just dont see how people are saying endgame is the best marvel film when theres clearly other marvel films better than it!\n",
      "But trust me this is the film that changed the mcu , lol maybe it because i wanted them to lose because thanos is badass!!!!!!!!!!!!!!\n",
      "I consider myself a big comic book marvel fan. My favorite films from the franchise so far, are Cap. American: Winter Soldier and Thor: Ragnarok. As this movie was directed by the same guys as Winter Soldier and Civil War, I went into this movie with sky-high expectations. I am gonna keep this brief: Avengers: Infinity War blew me away! If I should mention just one thing that really amazed me was the character of Thanos. He is so well developed and makes for a super interesting and complex villain. As an audience, we are actually capable of sympathizing with a guy, who wants to kill off half of the universe. It's not about power or dominance. It's about preserving life in a Universe with finite resources - a goal with leads him (and the avengers) into several interesting moral dilemmas. I agree with the other reviews here. This movie is such a beautiful calamity of 10 years of the best superhero entertainment there is. Thinking about it, I can't really grasp how the director pulled this off. So many well developed characters from different story lines are working together in a true cinematic symphony. I give this movie my highest recommendations. It's a must-see for anyone with just a remote interest in the franchise.\n",
      "A wonderful movie and the action scenes in the film are some of the most wonderful, especially in the Battle of Titan. I liked the fact that Thanos was capable of defeating all the battles in the film and he did not use a plan and the end was sad, especially the death of Spider-man\n",
      "This movie is the beginning of the culmination of Marvel's masterfully woven cinematic universe. Beginning back in 2008 with iron man, we are finally seeing the results of all the movies have been pointing to; and it did not disappoint. Thanos is a complex villain, with deeper and more interesting desires than just \"world domination.\" The dilemmas all the characters face in this movie (both the heroes and the villains) are truly thought provoking and leave you on the edge of your seat. No other set of movies has beeen so involved, so expanded, and encompassed so many story lines/characters and previous movies. The sheer amount of star power alone in this film is insane; and they do a masterful job of weaving all these unique and various characters into a common storyline.\n",
      "Over the past decade, Marvel has earned itself the benefit of the doubt. The studio has consistently delivered smart, funny, brave films that both embrace and transcend their comic-book origins. The 18 blockbuster movies produced since Iron Man first blasted off into the stratosphere in 2008 have not only reinvented superhero films as a genre - they've helped to legitimise it. Indeed, Marvel's two most recent films - Thor: Ragnarok and Black Panther - have received the kind of accolades usually reserved for edgy arthouse flicks. And yet, it's perfectly reasonable to be apprehensive about Avengers: Infinity War. This is a blockbuster film that's been ten years in the making, its plot hinted at and scattered throughout 18 other movies. It features 30 or so characters, each with their own complex backstories and motivations. And all of them are coming together in a bid to stop a giant purple alien dude from destroying the universe. It sounds ridiculous, and feels impossible. But that's precisely what makes the final product such a monumental achievement. Masterfully directed by Anthony and Joe Russo, Infinity War is bold, brainy filmmaking at its very best: the kind that will lift your spirits, blow your mind and shatter your soul - occasionally in the same scene. It demonstrates on an epic scale what Marvel has known all along: that special effects and tightly choreographed action are there to serve the story. For all its blockbuster spectacle (and there's almost too much of that), the film works because it's anchored by the heart, humour and humanity of its characters.The film's basic plot is simple: Thanos (played via motion-capture by Josh Brolin), intergalactic purveyor of death and destruction, has long been on the hunt for the six Infinity Stones that will give him complete control over the elemental building blocks of the universe. He dispatches his acolytes to Earth to retrieve the Time Stone, currently in the possession of Dr. Stephen Strange (Benedict Cumberbatch), and carve the Mind Stone out of the forehead of Vision (Paul Bettany). It's a literal existential threat so terrifying that all the heroes we've come to know and love - from the Avengers to the Guardians of the Galaxy - must put aside their differences and unite against a common foe. From the outset, it's immediately clear that neither the film's directors nor screenwriters (Christopher Markus and Stephen McFeely) are interested in playing it safe. Most other superhero films are bled of high stakes - the hero in the title might suffer untold trauma, but it's a super-safe bet that he or she will make it to the end alive. There's no such guarantee here. Within the first ten minutes, we are confronted with the dark, twisted depths to which Thanos and his acolytes in the Black Order will sink in order to achieve their goals. Death, as well as genuine loss and sacrifice, is intrinsic to the narrative drumbeat that drives Infinity War ever forward, and the film is all the better for it. That's not to say the movie is a morbid and depressing experience. What's so impressive about Infinity War is how it expertly juggles its constantly shifting tones and moods. When it's funny (and it very often is), it's deeply, truly funny. The film finds maximum joy in flinging characters together with merry abandon, mixing and matching ones you'd never have expected to share scenes or trade banter. Peter Quill (Chris Pratt) is floored by Thor's (Chris Hemsworth) godly muscles. Bruce Banner (Mark Ruffalo) is charmed by the wit and intelligence of Shuri (Letitia Wright). And it'd be impossible to not be utterly delighted by Peter Dinklage's inspired cameo. It's a blithely tongue-in-cheek sensibility shared by Marvel's best comic books, which understand that humour can make you care when it really counts.And, boy, does Infinity War make it count. There are many heartbreakingly human moments threaded throughout the film: from the charming surrogate father-son dynamic shared by Tony Stark (Robert Downey Jr) and Peter Parker (Tom Holland), to the undeniable love that ties Vision and Wanda Maximoff (Elizabeth Olsen) together. In many ways, the film stands as a testament to the human capacity not just to love, but to love fiercely and beyond all logic. It's right there when the unfailingly noble Steve Rogers (Chris Evans) declares, \"We don't trade lives\", even when giving up one could save billions. There's even a chilling echo of it in Thanos himself. A lesser film would have turned Thanos into a one-dimensional villain, much the way he's all monster and maniac in the comic books. In Infinity War, however, Thanos' end goal is surprisingly relevant when it comes to thinking and talking about the staggeringly overpopulated world in which we live today. There is, as it turns out, method to Thanos' madness. It makes the tragic twists and turns in his relationships with his estranged adopted daughters, Gamora (Zoe Saldana) and Nebula (Karen Gillan), all the more unsettling. For the most part, Infinity War does justice, too, to the many heroes who have been assembled for the film. The Russo brothers displayed great skill at interweaving multiple perspectives and character trajectories in Captain America: Civil War, and they do so again here, with twice as many characters. Even the most minor of supporting players, like Don Cheadle's James Rhodes/War Machine, are given story beats that land. It helps that Marvel has always taken care to cast genuinely good actors in roles that might otherwise come off as silly and slight. Even so, there are a few standouts amongst this enormous and enormously talented cast. Emotionally speaking, this is Downey's film. He plays every note of Tony's reluctant courage and bone-deep trauma, as he embarks on what he's convinced is a suicide mission. He's ably matched by Cumberbatch, who finds vulnerability even in his character's most cunning and calculative move. Hemsworth, meanwhile, is given free rein to import the big-hearted comedic swagger of Thor: Ragnarok into this film - while also layering it with a deeply-felt, jagged grief for the losses he has suffered at the hands of Thanos and the universe.In a film with so many moving parts, some elements don't work quite as well. A couple of characters that you might have expected to be right at the forefront - including an original Avenger or two - fade into the background. The film tumbles from dizzying fight scene to dizzying fight scene, and while most of them are fantastically choreographed, there are some purely dumb moments that literally revolve around attempts to prevent Thanos from clenching his fist. In effect, this is a superhero mêlée that's part over-the-top and part overkill, and might prove too much for those who don't already care for this franchise and the characters in it.Minor quibbles aside, though, Infinity War is yet another step in the right direction for Marvel. It continues the studio's tradition of placing a premium on rich, complex storytelling that respects both its characters and its audiences. But it also refuses to make things easy for itself. The film ends even more bravely than it began, with a final ten minutes that will haunt and horrify you in equal measure. It's a stroke of bold, brilliant genius - a narrative risk so audacious that you'll want to follow Marvel wherever it goes next.\n",
      "Infinity War does a brilliant job by seamlessly combining the last few films together. It picks up where Ragnarok left off on the space shuttle with Thor, Loki, Hulk and all the remaining Asgardians. It opens with a distress call as Thanos and his Dark Order have slaughtered most of passengers including some of the remaining Asgardians. He interrogates Thor and beats Hulk so bad he is too scared to ever turn green again. A defeated Hulk/Bruce Banner is then transported to Doctor Strange's Sanctum Sanctorum so he can warn him of Thanos' arrival. It is down to Doctor Strange, Wong, Tony Stark and Spider Man to prevent Thanos' evil minions from destroying New York and taking the time stone. It's a thrilling action sequence that introduces Starks cool new nano-bot armour that creates its own swords and shields. Thanos has been teased since 2012 and the wait has paid off here as he is by far one of the best villains. The story is more about him achieving his goals which is refreshing to see as the villains are normally sidelined in these films. He is so determined to get all six gems, each gem making him stronger. The Avengers and Guardians have to race against time to stop him from finding all six. One sequence on his home planet 'Titan' is worth mentioning and like most of the film, it is breathtaking and tense. His crew (Dark Order) also seem unbeatable as they battle the rest of the Avengers in Wakanda with their alien army which also proves difficult. Thanos gets some interesting backstory, it would have been even better if the menacing Dark Order got some backstory themselves as we never really understand them or their motivations.Even though it enters familiar ground, it is often done differently and most of the time it's unpredictable. It's full of surprises and twists which will leave you exhausted by the end. Although Infinity War feels over stuffed with characters and storylines, the Russo Brothers do an exceptional job by giving each character enough to do. Its great to see some focus on characters like Gamora and Thor as previous films have kept it prominently on characters Iron Man, Hulk and Captain America. That's not to say they don't get anything to do because they do, it's just not as much as usual. This entry really does require you to see all of the ones before it as it can become confusing. They often call back to previous events and storylines, so it's a better experience if you are familiar with all of them. There are also so many fun references like Rocket Racoon's need for artificial limbs, Thor's new haircut and Drax's constant quips. There are too many visual effects shots which could have been avoided using practical effects. The CGI shots don't look bad, but sometimes they can be distracting. However it's a technique that is quicker than any other, and with studio films of this scale that's just a small price to pay. The action scenes are so well directed accompanied by a music score by Alan Silvestri who always adds that extra level of excitement to them. It is a relief to say Infinity War runs well over 2 hours 30 minutes which is the longest Marvel film. There is no point saying its \"baggy\" or \"overlong\" as fans of the franchise will greatly appreciate this and with so much going on the runtime is justified.\n",
      "Summer movies often hype themselves as spectacular events not to be missed and their ad campaigns use words like \"epic\", \"spectacle\", and \"smash\" as ways to build the hype to increase advanced box office sales.\n",
      "The summer 2018 film season kicks off in a big way with \"Avengers: Infinity War\" and it is the rare summer film that exceeds is lofty expectations and delivers a crowning achievement for the Marvel Cinematic Universe.\n",
      "When Thanos (Josh Brolin), embarks on a deadly campaign to find and possess the Infinity Stones, he leaves a path of death and destruction in his path. When his pursuit leading him to Earth, Bruce Banner (Mark Ruffalo), and Doctor Strange (Benedict Cumberbatch), who enlist a reluctant Tony Stark (Robert Downey Jr.), to the cause just as the minions of Thanos arrive.\n",
      "With The Avengers fractured and scattered following the events of \"Captain America: Civil War\" the teams find themselves dealing with the threat in various groups as fate steps in to divide many key members of the team. This allows for a great entry by the Guardians of the Galaxy and allows the film to take a very enjoyable path. Essentially the movie weaves separate storylines into one cohesive and very satisfying epic. You have a story with the Guardians as well as one with many of the key Avengers, as well as others with characters old and new. As such it is like a Guardians, Avengers, and Marvel film all rolled into one and each one supports the other very well yet has the charm and identity you would expect. While the tone is very dark as you would expect with literally half of the known universe facing destruction, there is also some solid humor in the film that never once undermines the story or pacing.\n",
      "Naturally the effects are stunning as you would expect as Marvel has put a significant amount of money into the film and it shows in every eye-popping action sequence.\n",
      "What really impressed me the most was that the Russo Brothers never let the FX of the film overshadow the characters and with a very large cast, it was nice to see everyone got their moment and you did not see members of the cast trying to one up each other.\n",
      "There are some real surprise moments along the way and the action is easily the best of any Marvel film to date. Many fans had expressed disappointment with \"Avengers: Age of Ultron\" for me this film is significantly better than the prior film and is everything that a Marvel fan would want in a film.\n",
      "I was also surprised by how well Thanos was portrayed as while you hopefully will not agree with his deductions and methods; you could actually understand his motivations and it help him transcend from the usual megalomaniacs which are so common in films of his type. I am really looking forward to seeing what comes next and make sure you stay through the credits for a bonus scene.\n",
      "Believe the hype, \"Avengers: Infinity War\" is an epic not to be missed and is an example of what a summer event film should be.\n",
      "5 stars out of 5\n",
      "I was amazed to see so many negative reviews; so many people are impossible to please. This movie was 2 1/2 hours long, but I could have sat there another 2 1/2 hours and not noticed. Thoroughly entertaining, and I love how the directors weren't afraid to take chances. I've read a lot of other user reviews that claim that there's no plot. Unless you're mentally handicapped or not paying attention because you're on your phone the entire movie, the plot is pretty clear, and decent in my opinion.\n",
      "..but still 10/10. Or 9.5 if its possible.The MCU has been very consistent in their filmmaking and I am happy that Infinity War absolutely delivers.\n",
      "I am happy that it feels like and is a Thanos movie, a movie about a giant purple men who is here not because to kill smth but to fullfil his deep inner beliefs which is well written and understandable for the audience.\n",
      "The level of how well they combined so many important characters in one movie is immeasureable and still have the ability to craft a good story around it.This movie is not perfect. Jokes are sometimes heavily missplaced and Peter Quills occurence with Thanos at Titan is not well thought out. I wish there would be a better solution.Still. 10 years developement of a consistent franchise. And in the end a purple men with a not so empty heart wins. ITS GREAT.\n",
      "All the reviews that say this movie has no plot are either trolls, idiots, or didn't are to take the time to watch previous marvel movies. Every single one of those ratings and reviews should be taken down and not added to the rating for Infinity War because of their fundamental lack of understanding. It's like coming in and watching the last 2 minutes of an hour long drama show and saying this episode sucks because it has no plot. It's utterly ridiculous!There have been 31 marvel movies leading up to this point. All 31 has have some plot that leads to infinity war. Infinity War IS the end game movie. There is nothing left to explain, nothing left to discuss, it is all-out fight for control of the most powerful items in existence, the infinity stones. There have been 31 movies to explain in someway the power of these stones and/or the heroes that come together to fight Thanos in this movie. It's like a long game of chess where Thanos finally makes his move, and it's a huge one.So I beg of any of you who reads this. Don't listen to anyone who says this movie has no plot, has no reason and is only fighting. They aren't worth listening to, Infinity Wars has roughly 60 hours of plot from 31 precious movies leading up to this monumental fight for life or death, and the movie is done to near perfection. The movie is glorious, the CGI is fantastic, the battles are awe-inspiring, and Thanos is made worth of your fear from the very beginning. He is truly the Mad Titan that captures your heart and crushes it right in front of your eyes. Anyone who doesn't think this clearly didn't see the same movie.\n",
      "OH GOD! This movie is unbelievable everything is AMAZING, Acting, Directing, Soundtracks!!!\n",
      "Thank you marvel we are so glad 😍😍😍\n",
      "Best movie Avengers infinity war 2018 I was amazed to see so many negative reviews; so many people are impossible to please. This movie was 2 1/2 hours long, but I could have sat there another 2 1/2 hours and not noticed. Thoroughly entertaining, and I love how the directors weren't afraid to take chances. I've read a lot of other user reviews that claim that there's no plot. Unless you're mentally handicapped or not paying attention because you're on your phone the entire movie, the plot is pretty clear, and decent in my opinion.\n",
      "I absolutely loved this movie. It was intense, action-packed and emotional. Also delivering comedy when needed, but it was a relatively dark film. All of the actors delivered great performances and the characters continue to be fleshed out and be made human despite the fact that they're superheroes. This is easily the best superhero movie ever made. Thanos is one of the best villains of the MCU, as well as one of the best of Cinematic history in general. Upon first viewing, I hated him, but found his character intriguing. Similar to Emperor Palpatine in the Original and Prequel trilogies of Star Wars. The more times I rewatch it though, I start to understand Thanos' point of view more and more. The blurred lines with his motivations make the movie more compelling. Even driving some people to say that Thanos was right in all this. I wouldn't go that far, but I would say his character is misunderstood. Definitely a compelling villain in Thanos. The ending of the movie was insanely emotional, but I love how they (mainly) set aside the original Avengers team to take on Thanos in the fourth Avengers movie. I, for one, cannot wait.That eerie \"Thanos will return\" at the end of the film sent a chill down my spine. It truly is the end game now, and I can't wait to see the Avengers rise up and likely defeat Thanos in the next movie.+Every Hero has their moment to shine (Much like the villain wants, the movie achieves balance in this way)\n",
      "+Good Comedic moments to balance (again pun intended) the dark tone of the film\n",
      "+Emotional and Heavy ending (Seeing Earths Mightiest fail is something devastating to watch)\n",
      "+Complete hype moments that reward you for being a fan of this franchise for 10 years\n",
      "+Incredible performances\n",
      "+Phenomenal original score \n",
      "Etc. Not much you can find that's wrong with this movie. It's literally the perfect movie Marvel has been building up to for 10 years. And those that claim it didn't have an ending as a negative, I beg to differ. Just because the villain won doesn't mean it didn't have an ending. My Rating: 10/10\n",
      "With the beggining of the movie it was full of surpises. \n",
      "What I really liked in the movie was the serious tone and the real threat hanging over the Avengers. Yes...this is THANOS ! He is an amazing villain ! \n",
      "MARVEL Studious show us once again that their production are spectacular visual!\n",
      "This movie is currently the pinnacle of marvel movies. I've heard people criticize this movie for incredibly stupid reasons like being \"to long\" or using cgi. Those people are called weirdos. Watch the movie. It's good.\n",
      "Since 2012 I watched every MCU film in the cinema.\n",
      "It was part of my childhood and I was hyped on every single film when it was announced. So when Infinity War was announced it was something special. The final battle with our heroes against the ultimate villain.\n",
      "And it didn't dissapoint.\n",
      "I absolute loved it and the end shocked me.\n",
      "I went out of the cinema and couldn't believe it.\n",
      "For me it's the peak of the superhero genre alongside with Endgame.So now were in the Endgame...\n",
      "Theres nothing that i can say about this film that hasnt already been said,a visual spectacle,yeah thats been said before,an amazing action,already been said but i would certainly recomend this film.\n",
      "Have found myself liking or loving a lot of Marvel's previous work, while finding a few faults with most. It is very easy on the most part to see why they are highly regarded critically, though those more critical of their work have raised criticisms that can be agreed with by me. Loved the first 'Avengers' film, while 'Age of Ultron' was more problematic and generally a lesser Marvel effort though still having a good deal to admire. 'Infinity War' for me was the best one, or the one enjoyed most. Would also go far to say it's one of Marvel's overall best, and a perfect example of how to do a superhero film and how to balance a large cast of characters and a lot going on. Can totally see why it has been so positively reviewed and it deserves the positive hype from personal opinion, though would hesitate in calling it flawless or one of the best films ever. More could have been done with the very end, which felt like it ended a little too suddenly without resolving everything to full effect. It may very well have been leaving room for a follow-up, but to me it's always been dangerous somewhat to do that just in case a follow-up doesn't happen.Scarlett Johansson also has far too little to do, with too short screen-time. Black Widow is the only character to me who felt underdeveloped and Johansson struggles to do much with it.However, the rest of the cast are spot on. A big shout out goes to Josh Brolin, who makes for a menacing and melancholic Thanos. Speaking of Thanos, Marvel have tended to underwhelm with their villains, underwriting them and giving them vague or inconsistent motivations. Thanos is easily one of the best Marvel villains along with Hela, one of the most interesting and of surprising complexity where he is a threat but one can see his point of view.Robert Downey Jnr, Chris Evans and Chris Hemsworth are also standouts of a near-uniformly great all-star cast. There are a lot of characters here, but somehow on the most part it didn't feel like there were too many (a big danger with films with many characters and a trap fallen into quite a lot). They hold a lot of intrigue and manage not to be too sided and true to character. Likewise, the story is very eventful with a busy main story and several subplots. Yet it didn't feel sprawling and managed to make sense and never lose engagement. Basically it's a non-stop thrill-ride and tautly paced, with some reveals that leaves one gasping, twists that genuinely shock, rousing entrances and some of the finest action sequences of any Marvel film or any film recently, that are truly exciting and big in scale without being too noisy or exhausting. The climax is truly epic, in scale, spectacle, thrills and emotion. 'Avengers: Infinity War' hugely impresses in the script too, with snappy banter, hilarious quips (along with 'Thor: Ragnarok' this is one of the funniest Marvel films, Thor has the best of it), tension and an emotional poignancy not seen to this extent or as strongly in Marvel films. It's all intelligently handled and the humour didn't feel misplaced or inappropriate to me, this is a Marvel film that delivers on the spectacle and thrills while also having brains and heart. Marvel never disappoints when it comes to the production values. 'Avengers: Infinity War' is not an exception. It's beautifully and atmospherically designed, slickly filmed and edited and the special effects, not overused or abused, are some of the most extravagant and spectacular for any film seen recently. It's tightly directed and dynamically and rousingly scored. Overall, an excellent film and one of my standout viewings of all the films seen so far from the first half, and overall, of 2018. 9/10 Bethany Cox\n",
      "Engrossing, Epic, Emotional. Those are the three E's that define this movie. The latest instalment of the Marvel Cinematic Universe franchise is at its very best, culminating ten years of marvel adventure and spectacle with the biggest and most boldest movie in the superhero genre. \n",
      "So let's start with Anthony and Joe Russo, the geniuses that made this beast of a movie. After announcing that they will be directing the next two Avengers movies, Marvel fans knew at once that this will be the darkest Avengers movie yet. Yes, it was very dark with more of a serious tone. More than Winter Soldier and Civil War (previous marvel movies directed by the Russo Bothers) combined but they also had what the other Avengers movies had as well, the humour and it was not at all tasteless. Nobody really cared if it was necessary or not because the humour worked along with the edgy parts of the movie. This is by far the Russo brothers best work among the Marvel movies completely raising the bar of superhero movies to it's highest. Praise to Christopher Markus and Stephen McFeely for writing the amazing script (they also wrote the scripts of Captain America, The Avengers, Winter Soldier, Age of Ultron and Civil War also known to be the best marvel movies). \n",
      "Now, the characters and story. Practically everyone that you've seen in the previous marvel movies that aren't dead, are in this movie. Everyone had the chance to shine even if it's the smallest way possible. There were so many character arcs in this movie and none of them were cut short or boring. Every scene is in the movie was worth digesting and deciphering, along with the surprises and the twists and turns that will get audiences on the edge of their seat. Everything from character development to the pacing of the storyline, makes you jump, scream, gasp or cry. \n",
      "And of course, the one and only, Thanos. The villain that has been teased one too many times is finally here and he delivers. Josh Brolin officially portrays the best villain in the MCU, completely pissing on Marvel's villain problem. He brings all out on the table with everything he's got. Not only will you hate Thanos by the end of the movie, but you will understand him and maybe even feel sorry for him for a few seconds. They brought layers into him that no one has seen in a movie portrayal of a Marvel villain. They made him scary and strong at the same time vulnerable and understandable. The motivation of his doing and his character development made him the best character in the movie, making the movie all about him. \n",
      "I cannot tell you anymore about this movie because then I would be spoiling. All I have to say is that whether you're a marvel fan or not, and if you at least know what has been going on in the previous marvel movies, GO AND WATCH IT. It will not be a waste of your time or money. Digest this to prepare for what's to come. I may be bias once again but I just have to. I have to rate this movie 10/10. If I don't, I would be betraying myself.\n",
      "I went and looked, and I want to express my thoughts.I went to this film with very high expectations, with a sense of something. I went to him twice, the first time, myself, and the second with the family, and I was even surprised that my mother, sister and dad (who do not understand this movie at all) brought unreal pleasure and an ocean of emotions.Each frame, each scene does not let you get bored, from the Marvel logo, and to the stage after the credits. Favorite heroes once again experienced side by side and you feel it, you are completely absorbed in a hurricane of events and you are watching it in one breath. In comparison with the War of Infinity, even the Confrontation looks like an ordinary fight in the sandbox.Uuuu, and the villain, the best as for me the best in this kirovoveselennoy, he is not just a bot at once, without motivation, no, it's just the opposite. I liked Thanos so much that you do not want to, and he began to impress me, in terms of his convictions (I had it only once, with Joker Heath Ledger). He has feelings, he makes choices, he's alive.Tense scenes are beautiful, in one moment I still let off a meager male tear (and this happens to me very, very rarely). What about the humor, the jokes are correct for me, and they do not bother you like Thor: Ragnarok, although in the beginning they look a little tight. Well, the action, it is very high-quality, and in comparison with the Black Panther is generally ideal.And of course the film can not be without punctures. The lack of predictability of some story lines, and a couple of moments that were very predictable, but they are fade against the background of all this scale.Yes, you will not find anything in this film about something, something, but, what, what, what, steep humor. Thanks to Marvel and of course the Rousseau brothers, the beautiful actors and the wonderful movie that I've been waiting for for 3 years.Out of 10, I give the War of Infinity 9.\n",
      "Well, Well, Well....I was so ready to tear this down - 19th MCU film, too many stars, bloated CGI, first of a two parter, and so on and so on...Yet, this is so much fun. Pure popcorn...now in the dictionary under \"popcorn film\" is just the poster for this film. Somehow, the Russo Brothers have juggled all the parts to give everyone some time in the sun. They are helped immensely by two things: the premise is so pure Mcguffin that you just watch Thanos look for Infinity Stones which gives a primal momentum and that the film's stars/characters are looking to move on - that means, actual stakes for once as people could really die and not just comic book dying either.The DC people must be kicking themselves. The lightness and comedic touches are brilliant. You are laughing out loud, comedy level, but at totally organic character humour. It means you are so entertained throughout its rather long running time.The other big surprise is Thanos himself. Normally, I hate CGI characters but somehow they have made Thanos and Josh Brolin work enough to give the character an actual arc. This is one of the better MCU villains and I never thought I would write that.The stakes are real, the charisma levels are amazing, it is like \"Oceans 28\" and I can't wait for the sequel...that says an enormous amount considering the challenges this film faced.\n",
      "Oh. My. God. What an incredible film! I've never done a review of a movie before, I've only done TV shows. So bare with me, I'm gonna discuss the major points and chuck in a theory or two. But to start off...Wow. This film could be the best Marvel movie ever! But I will give it a few days to digest and probably a second viewing before deciding on that. It absolutely lived up to the 10 year build up since Iron Man 1, how far we've come in a quick 10 years is remarkable. The Thanos character absolutely hit the mark. He was menacing, intimidating, vicious and so much more. Props to the actor who played him. Thanos' plan succeeds (for the time being) and we get a whole lot of \"death\" because of it. In this movie there was death, and \"death\". The former refers to characters such as Loki, Vision and Gamora. We saw these characters die and there bodies be left behind. For this movie not to lose credibility, these characters, in my opinion, must remain dead. Now \"death\" refers to what we saw at the end, Thanos, with all infinity stones, clicked his fingers and half of humanity, including half of the avengers (important to note that all the original avengers are still alive) dissolved into dust giving the impression of death. I expect these characters to come back at some point during the next Avengers film, most likely due to the originals saving them. My final theory regards Doctor Strange. On the ship with Stark and Spidey, Strange said that if it came to it he would save his stone over Stark and Spidey's lives. However, in the end we see Strange give up the stone to Thanos on the condition Stark stay alive. My prediction is that when Strange saw all the possible futures, the only future in which they win must heavily rely on Tony Stark. Which makes sense, Tony started it all so he should finish it. Incredible film, can't wait for the next one to see how it all resolves. 9.8/10\n",
      "Let me be clear Infinity War is not flawless, it has its faults but thankfully they are overshadowed by two hours of awesomeness.Every movie in the Marvel universe for the last decade has ultimately been building up to this therefore expectations were through the roof and for the most part it delivers.Almost every character from the MCU teams up to face its most dangerous foe yet, the mad titan himself Thanos and if you know anything about the comics then going in you'd know to brace yourself for heartache.With all the hype as to who wouldn't survive the film I'm left wondering just how many deaths are permanent, this is a superhero universe after all so never say never.Though the story and Thanos's motivations differ from the comic this can be forgiven as the new story is wafer thin but competent.As you can imagine one of the most exciting things about Infinity War was uniting heroes we've never seen side by side and that certainly delivers on all fronts. The action is thick and fast, despite the dark overtone we have plenty of comedy and teenage Groot didn't ruin the film like I feared he would.Obviously this is not a big finale and merely a high profile chapter in a much larger story but the movie is highly climatic regardless.I am saddened that this wasn't a two parter, alike Civil War (2016) this was a huge story and perhaps should have been broken up across movies.Infinity War is a contender for the best Marvel movie and instead of feeling burnt out after the never ending stream of films this has wet my appetite for more and I can't wait for the next film.Excellent stuff, though where in the blue hell was Ant Man?The Good:Children of ThanosThanosAll out action as expectedTies everything together nicelyThe Bad:Peter Dinklage (Never thought I'd say that)So many characters were spread too thinThings I Learnt From This Movie:If Thanos and Cable ever meet its going to be super weirdDishonest footage/photos are commonplace now (Look up the footage of Hulk in Wakanda running with the rest of the team) Seriously, never happened.Somewhere out there right now are DC fans claiming this is a bad film\n",
      "This movie has made me feel things that I haven't about a movie in a very long time. If you are anything like me you will definitely feel a sense of \"everything is gonna be alright\" because of the generous sprinkling of light humour that makes the situation feel less serious than it actually is. The emotional roller coaster that begins right at the beginning of the movie to the very end has you feeling more and more frustrated and on edge as it goes on. Don't get me wrong this movie is absolutely stunning and amazing and a cliffhanger at the end has you wanting more and more. I'm definitely very excited to see how this storyline will carry out in the next Avengers movie.\n"
     ]
    }
   ],
   "source": [
    "#화면 속 글자만 가져오고 싶다!!\n",
    "#파이썬 기본 문법! \n",
    "#for loop\n",
    "#for i in range(어쩌구):\n",
    "#\n",
    "for review in review_only:\n",
    "       print(review.get_text().strip())"
   ]
  },
  {
   "cell_type": "code",
   "execution_count": 25,
   "metadata": {},
   "outputs": [],
   "source": [
    "lis = source.select('div.lister-list > div.imdb-user-review')"
   ]
  },
  {
   "cell_type": "code",
   "execution_count": 29,
   "metadata": {},
   "outputs": [
    {
     "data": {
      "text/plain": [
       "<div class=\"lister-item mode-detail imdb-user-review collapsable\" data-review-id=\"rw5504583\" data-vote-url=\"/title/tt4154756/review/rw5504583/vote/interesting\">\n",
       "<div class=\"review-container\">\n",
       "<div class=\"lister-item-content\">\n",
       "<div class=\"ipl-ratings-bar\">\n",
       "<span class=\"rating-other-user-rating\">\n",
       "<svg class=\"ipl-icon ipl-star-icon \" fill=\"#000000\" height=\"24\" viewbox=\"0 0 24 24\" width=\"24\" xmlns=\"http://www.w3.org/2000/svg\">\n",
       "<path d=\"M0 0h24v24H0z\" fill=\"none\"></path>\n",
       "<path d=\"M12 17.27L18.18 21l-1.64-7.03L22 9.24l-7.19-.61L12 2 9.19 8.63 2 9.24l5.46 4.73L5.82 21z\"></path>\n",
       "<path d=\"M0 0h24v24H0z\" fill=\"none\"></path>\n",
       "</svg>\n",
       "<span>9</span><span class=\"point-scale\">/10</span>\n",
       "</span>\n",
       "</div>\n",
       "<a class=\"title\" href=\"/review/rw5504583/\"> Great\n",
       "</a> <div class=\"display-name-date\">\n",
       "<span class=\"display-name-link\"><a href=\"/user/ur87850731/\">MR_Heraclius</a></span><span class=\"review-date\">23 February 2020</span>\n",
       "</div>\n",
       "<div class=\"content\">\n",
       "<div class=\"text show-more__control\">This movie portrays a villain that by far has been the best out of all the other Marvel antagonists. It shows his personal conflicts, his purpose, as well as his cruelty. The heroes of this film are overshadowed by this, but the ending really makes a mark on the audience.</div>\n",
       "<div class=\"actions text-muted\">\n",
       "                    129 out of 150 found this helpful.\n",
       "                        <span>\n",
       "                            Was this review helpful? <a href=\"/registration/signin\"> Sign in</a> to vote.\n",
       "                        </span>\n",
       "<br/>\n",
       "<a href=\"/review/rw5504583/\">Permalink</a>\n",
       "</div>\n",
       "</div>\n",
       "</div>\n",
       "<div class=\"clear\"></div>\n",
       "</div>\n",
       "<div class=\"gradient-expander hidden show-more\">\n",
       "<div class=\"gradient-container show-more__control\"></div>\n",
       "<div class=\"gradient-footer\">\n",
       "<div class=\"ipl-expander \">\n",
       "<div class=\"ipl-expander__container\">\n",
       "<div class=\"expander-icon-wrapper show-more__control\">\n",
       "<svg class=\"ipl-expander__icon expander-icon \" height=\"8\" viewbox=\"0 0 12 8\" width=\"12\" xmlns=\"http://www.w3.org/2000/svg\">\n",
       "<path d=\"M10.197 0L6 4.304 1.803 0 0 1.85 6 8l6-6.15\" fill=\"#2572B3\" fill-rule=\"evenodd\"></path>\n",
       "</svg>\n",
       "</div>\n",
       "</div>\n",
       "</div>\n",
       "</div>\n",
       "</div>\n",
       "</div>"
      ]
     },
     "execution_count": 29,
     "metadata": {},
     "output_type": "execute_result"
    }
   ],
   "source": [
    "lis[0]"
   ]
  },
  {
   "cell_type": "code",
   "execution_count": 30,
   "metadata": {},
   "outputs": [
    {
     "name": "stdout",
     "output_type": "stream",
     "text": [
      "score :9\n",
      "    \n",
      "comment: This movie portrays a villain that by far has been the best out of all the other Marvel antagonists. It shows his personal conflicts, his purpose, as well as his cruelty. The heroes of this film are overshadowed by this, but the ending really makes a mark on the audience.\n",
      "    \n",
      "score :1\n",
      "    \n",
      "comment: This film is way better than endgame!\n",
      "The actions better\n",
      "The writings better\n",
      "The dialogues better\n",
      "The cgi is better\n",
      "More shocks and more emotional.\n",
      "Watching both in the cinema , the reactions to this in cinema was unbelievable compared to endgame. Dont get me wrong endgame is good but to say its the best marvel film is jus marvel fan boys being stupid.\n",
      "I just dont see how people are saying endgame is the best marvel film when theres clearly other marvel films better than it!\n",
      "But trust me this is the film that changed the mcu , lol maybe it because i wanted them to lose because thanos is badass!!!!!!!!!!!!!!\n",
      "    \n",
      "score :1\n",
      "    \n",
      "comment: I consider myself a big comic book marvel fan. My favorite films from the franchise so far, are Cap. American: Winter Soldier and Thor: Ragnarok. As this movie was directed by the same guys as Winter Soldier and Civil War, I went into this movie with sky-high expectations. I am gonna keep this brief: Avengers: Infinity War blew me away! If I should mention just one thing that really amazed me was the character of Thanos. He is so well developed and makes for a super interesting and complex villain. As an audience, we are actually capable of sympathizing with a guy, who wants to kill off half of the universe. It's not about power or dominance. It's about preserving life in a Universe with finite resources - a goal with leads him (and the avengers) into several interesting moral dilemmas. I agree with the other reviews here. This movie is such a beautiful calamity of 10 years of the best superhero entertainment there is. Thinking about it, I can't really grasp how the director pulled this off. So many well developed characters from different story lines are working together in a true cinematic symphony. I give this movie my highest recommendations. It's a must-see for anyone with just a remote interest in the franchise.\n",
      "    \n",
      "score :1\n",
      "    \n",
      "comment: A wonderful movie and the action scenes in the film are some of the most wonderful, especially in the Battle of Titan. I liked the fact that Thanos was capable of defeating all the battles in the film and he did not use a plan and the end was sad, especially the death of Spider-man\n",
      "    \n",
      "score :1\n",
      "    \n",
      "comment: This movie is the beginning of the culmination of Marvel's masterfully woven cinematic universe. Beginning back in 2008 with iron man, we are finally seeing the results of all the movies have been pointing to; and it did not disappoint. Thanos is a complex villain, with deeper and more interesting desires than just \"world domination.\" The dilemmas all the characters face in this movie (both the heroes and the villains) are truly thought provoking and leave you on the edge of your seat. No other set of movies has beeen so involved, so expanded, and encompassed so many story lines/characters and previous movies. The sheer amount of star power alone in this film is insane; and they do a masterful job of weaving all these unique and various characters into a common storyline.\n",
      "    \n",
      "score :1\n",
      "    \n",
      "comment: Over the past decade, Marvel has earned itself the benefit of the doubt. The studio has consistently delivered smart, funny, brave films that both embrace and transcend their comic-book origins. The 18 blockbuster movies produced since Iron Man first blasted off into the stratosphere in 2008 have not only reinvented superhero films as a genre - they've helped to legitimise it. Indeed, Marvel's two most recent films - Thor: Ragnarok and Black Panther - have received the kind of accolades usually reserved for edgy arthouse flicks. And yet, it's perfectly reasonable to be apprehensive about Avengers: Infinity War. This is a blockbuster film that's been ten years in the making, its plot hinted at and scattered throughout 18 other movies. It features 30 or so characters, each with their own complex backstories and motivations. And all of them are coming together in a bid to stop a giant purple alien dude from destroying the universe. It sounds ridiculous, and feels impossible. But that's precisely what makes the final product such a monumental achievement. Masterfully directed by Anthony and Joe Russo, Infinity War is bold, brainy filmmaking at its very best: the kind that will lift your spirits, blow your mind and shatter your soul - occasionally in the same scene. It demonstrates on an epic scale what Marvel has known all along: that special effects and tightly choreographed action are there to serve the story. For all its blockbuster spectacle (and there's almost too much of that), the film works because it's anchored by the heart, humour and humanity of its characters.The film's basic plot is simple: Thanos (played via motion-capture by Josh Brolin), intergalactic purveyor of death and destruction, has long been on the hunt for the six Infinity Stones that will give him complete control over the elemental building blocks of the universe. He dispatches his acolytes to Earth to retrieve the Time Stone, currently in the possession of Dr. Stephen Strange (Benedict Cumberbatch), and carve the Mind Stone out of the forehead of Vision (Paul Bettany). It's a literal existential threat so terrifying that all the heroes we've come to know and love - from the Avengers to the Guardians of the Galaxy - must put aside their differences and unite against a common foe. From the outset, it's immediately clear that neither the film's directors nor screenwriters (Christopher Markus and Stephen McFeely) are interested in playing it safe. Most other superhero films are bled of high stakes - the hero in the title might suffer untold trauma, but it's a super-safe bet that he or she will make it to the end alive. There's no such guarantee here. Within the first ten minutes, we are confronted with the dark, twisted depths to which Thanos and his acolytes in the Black Order will sink in order to achieve their goals. Death, as well as genuine loss and sacrifice, is intrinsic to the narrative drumbeat that drives Infinity War ever forward, and the film is all the better for it. That's not to say the movie is a morbid and depressing experience. What's so impressive about Infinity War is how it expertly juggles its constantly shifting tones and moods. When it's funny (and it very often is), it's deeply, truly funny. The film finds maximum joy in flinging characters together with merry abandon, mixing and matching ones you'd never have expected to share scenes or trade banter. Peter Quill (Chris Pratt) is floored by Thor's (Chris Hemsworth) godly muscles. Bruce Banner (Mark Ruffalo) is charmed by the wit and intelligence of Shuri (Letitia Wright). And it'd be impossible to not be utterly delighted by Peter Dinklage's inspired cameo. It's a blithely tongue-in-cheek sensibility shared by Marvel's best comic books, which understand that humour can make you care when it really counts.And, boy, does Infinity War make it count. There are many heartbreakingly human moments threaded throughout the film: from the charming surrogate father-son dynamic shared by Tony Stark (Robert Downey Jr) and Peter Parker (Tom Holland), to the undeniable love that ties Vision and Wanda Maximoff (Elizabeth Olsen) together. In many ways, the film stands as a testament to the human capacity not just to love, but to love fiercely and beyond all logic. It's right there when the unfailingly noble Steve Rogers (Chris Evans) declares, \"We don't trade lives\", even when giving up one could save billions. There's even a chilling echo of it in Thanos himself. A lesser film would have turned Thanos into a one-dimensional villain, much the way he's all monster and maniac in the comic books. In Infinity War, however, Thanos' end goal is surprisingly relevant when it comes to thinking and talking about the staggeringly overpopulated world in which we live today. There is, as it turns out, method to Thanos' madness. It makes the tragic twists and turns in his relationships with his estranged adopted daughters, Gamora (Zoe Saldana) and Nebula (Karen Gillan), all the more unsettling. For the most part, Infinity War does justice, too, to the many heroes who have been assembled for the film. The Russo brothers displayed great skill at interweaving multiple perspectives and character trajectories in Captain America: Civil War, and they do so again here, with twice as many characters. Even the most minor of supporting players, like Don Cheadle's James Rhodes/War Machine, are given story beats that land. It helps that Marvel has always taken care to cast genuinely good actors in roles that might otherwise come off as silly and slight. Even so, there are a few standouts amongst this enormous and enormously talented cast. Emotionally speaking, this is Downey's film. He plays every note of Tony's reluctant courage and bone-deep trauma, as he embarks on what he's convinced is a suicide mission. He's ably matched by Cumberbatch, who finds vulnerability even in his character's most cunning and calculative move. Hemsworth, meanwhile, is given free rein to import the big-hearted comedic swagger of Thor: Ragnarok into this film - while also layering it with a deeply-felt, jagged grief for the losses he has suffered at the hands of Thanos and the universe.In a film with so many moving parts, some elements don't work quite as well. A couple of characters that you might have expected to be right at the forefront - including an original Avenger or two - fade into the background. The film tumbles from dizzying fight scene to dizzying fight scene, and while most of them are fantastically choreographed, there are some purely dumb moments that literally revolve around attempts to prevent Thanos from clenching his fist. In effect, this is a superhero mêlée that's part over-the-top and part overkill, and might prove too much for those who don't already care for this franchise and the characters in it.Minor quibbles aside, though, Infinity War is yet another step in the right direction for Marvel. It continues the studio's tradition of placing a premium on rich, complex storytelling that respects both its characters and its audiences. But it also refuses to make things easy for itself. The film ends even more bravely than it began, with a final ten minutes that will haunt and horrify you in equal measure. It's a stroke of bold, brilliant genius - a narrative risk so audacious that you'll want to follow Marvel wherever it goes next.\n",
      "    \n",
      "score :9\n",
      "    \n",
      "comment: Infinity War does a brilliant job by seamlessly combining the last few films together. It picks up where Ragnarok left off on the space shuttle with Thor, Loki, Hulk and all the remaining Asgardians. It opens with a distress call as Thanos and his Dark Order have slaughtered most of passengers including some of the remaining Asgardians. He interrogates Thor and beats Hulk so bad he is too scared to ever turn green again. A defeated Hulk/Bruce Banner is then transported to Doctor Strange's Sanctum Sanctorum so he can warn him of Thanos' arrival. It is down to Doctor Strange, Wong, Tony Stark and Spider Man to prevent Thanos' evil minions from destroying New York and taking the time stone. It's a thrilling action sequence that introduces Starks cool new nano-bot armour that creates its own swords and shields. Thanos has been teased since 2012 and the wait has paid off here as he is by far one of the best villains. The story is more about him achieving his goals which is refreshing to see as the villains are normally sidelined in these films. He is so determined to get all six gems, each gem making him stronger. The Avengers and Guardians have to race against time to stop him from finding all six. One sequence on his home planet 'Titan' is worth mentioning and like most of the film, it is breathtaking and tense. His crew (Dark Order) also seem unbeatable as they battle the rest of the Avengers in Wakanda with their alien army which also proves difficult. Thanos gets some interesting backstory, it would have been even better if the menacing Dark Order got some backstory themselves as we never really understand them or their motivations.Even though it enters familiar ground, it is often done differently and most of the time it's unpredictable. It's full of surprises and twists which will leave you exhausted by the end. Although Infinity War feels over stuffed with characters and storylines, the Russo Brothers do an exceptional job by giving each character enough to do. Its great to see some focus on characters like Gamora and Thor as previous films have kept it prominently on characters Iron Man, Hulk and Captain America. That's not to say they don't get anything to do because they do, it's just not as much as usual. This entry really does require you to see all of the ones before it as it can become confusing. They often call back to previous events and storylines, so it's a better experience if you are familiar with all of them. There are also so many fun references like Rocket Racoon's need for artificial limbs, Thor's new haircut and Drax's constant quips. There are too many visual effects shots which could have been avoided using practical effects. The CGI shots don't look bad, but sometimes they can be distracting. However it's a technique that is quicker than any other, and with studio films of this scale that's just a small price to pay. The action scenes are so well directed accompanied by a music score by Alan Silvestri who always adds that extra level of excitement to them. It is a relief to say Infinity War runs well over 2 hours 30 minutes which is the longest Marvel film. There is no point saying its \"baggy\" or \"overlong\" as fans of the franchise will greatly appreciate this and with so much going on the runtime is justified.\n",
      "    \n",
      "score :1\n",
      "    \n",
      "comment: Summer movies often hype themselves as spectacular events not to be missed and their ad campaigns use words like \"epic\", \"spectacle\", and \"smash\" as ways to build the hype to increase advanced box office sales.\n",
      "The summer 2018 film season kicks off in a big way with \"Avengers: Infinity War\" and it is the rare summer film that exceeds is lofty expectations and delivers a crowning achievement for the Marvel Cinematic Universe.\n",
      "When Thanos (Josh Brolin), embarks on a deadly campaign to find and possess the Infinity Stones, he leaves a path of death and destruction in his path. When his pursuit leading him to Earth, Bruce Banner (Mark Ruffalo), and Doctor Strange (Benedict Cumberbatch), who enlist a reluctant Tony Stark (Robert Downey Jr.), to the cause just as the minions of Thanos arrive.\n",
      "With The Avengers fractured and scattered following the events of \"Captain America: Civil War\" the teams find themselves dealing with the threat in various groups as fate steps in to divide many key members of the team. This allows for a great entry by the Guardians of the Galaxy and allows the film to take a very enjoyable path. Essentially the movie weaves separate storylines into one cohesive and very satisfying epic. You have a story with the Guardians as well as one with many of the key Avengers, as well as others with characters old and new. As such it is like a Guardians, Avengers, and Marvel film all rolled into one and each one supports the other very well yet has the charm and identity you would expect. While the tone is very dark as you would expect with literally half of the known universe facing destruction, there is also some solid humor in the film that never once undermines the story or pacing.\n",
      "Naturally the effects are stunning as you would expect as Marvel has put a significant amount of money into the film and it shows in every eye-popping action sequence.\n",
      "What really impressed me the most was that the Russo Brothers never let the FX of the film overshadow the characters and with a very large cast, it was nice to see everyone got their moment and you did not see members of the cast trying to one up each other.\n",
      "There are some real surprise moments along the way and the action is easily the best of any Marvel film to date. Many fans had expressed disappointment with \"Avengers: Age of Ultron\" for me this film is significantly better than the prior film and is everything that a Marvel fan would want in a film.\n",
      "I was also surprised by how well Thanos was portrayed as while you hopefully will not agree with his deductions and methods; you could actually understand his motivations and it help him transcend from the usual megalomaniacs which are so common in films of his type. I am really looking forward to seeing what comes next and make sure you stay through the credits for a bonus scene.\n",
      "Believe the hype, \"Avengers: Infinity War\" is an epic not to be missed and is an example of what a summer event film should be.\n",
      "5 stars out of 5\n",
      "    \n",
      "score :9\n",
      "    \n",
      "comment: I was amazed to see so many negative reviews; so many people are impossible to please. This movie was 2 1/2 hours long, but I could have sat there another 2 1/2 hours and not noticed. Thoroughly entertaining, and I love how the directors weren't afraid to take chances. I've read a lot of other user reviews that claim that there's no plot. Unless you're mentally handicapped or not paying attention because you're on your phone the entire movie, the plot is pretty clear, and decent in my opinion.\n",
      "    \n",
      "score :1\n",
      "    \n",
      "comment: ..but still 10/10. Or 9.5 if its possible.The MCU has been very consistent in their filmmaking and I am happy that Infinity War absolutely delivers.\n",
      "I am happy that it feels like and is a Thanos movie, a movie about a giant purple men who is here not because to kill smth but to fullfil his deep inner beliefs which is well written and understandable for the audience.\n",
      "The level of how well they combined so many important characters in one movie is immeasureable and still have the ability to craft a good story around it.This movie is not perfect. Jokes are sometimes heavily missplaced and Peter Quills occurence with Thanos at Titan is not well thought out. I wish there would be a better solution.Still. 10 years developement of a consistent franchise. And in the end a purple men with a not so empty heart wins. ITS GREAT.\n",
      "    \n",
      "score :1\n",
      "    \n",
      "comment: All the reviews that say this movie has no plot are either trolls, idiots, or didn't are to take the time to watch previous marvel movies. Every single one of those ratings and reviews should be taken down and not added to the rating for Infinity War because of their fundamental lack of understanding. It's like coming in and watching the last 2 minutes of an hour long drama show and saying this episode sucks because it has no plot. It's utterly ridiculous!There have been 31 marvel movies leading up to this point. All 31 has have some plot that leads to infinity war. Infinity War IS the end game movie. There is nothing left to explain, nothing left to discuss, it is all-out fight for control of the most powerful items in existence, the infinity stones. There have been 31 movies to explain in someway the power of these stones and/or the heroes that come together to fight Thanos in this movie. It's like a long game of chess where Thanos finally makes his move, and it's a huge one.So I beg of any of you who reads this. Don't listen to anyone who says this movie has no plot, has no reason and is only fighting. They aren't worth listening to, Infinity Wars has roughly 60 hours of plot from 31 precious movies leading up to this monumental fight for life or death, and the movie is done to near perfection. The movie is glorious, the CGI is fantastic, the battles are awe-inspiring, and Thanos is made worth of your fear from the very beginning. He is truly the Mad Titan that captures your heart and crushes it right in front of your eyes. Anyone who doesn't think this clearly didn't see the same movie.\n",
      "    \n",
      "score :1\n",
      "    \n",
      "comment: OH GOD! This movie is unbelievable everything is AMAZING, Acting, Directing, Soundtracks!!!\n",
      "Thank you marvel we are so glad 😍😍😍\n",
      "    \n",
      "score :1\n",
      "    \n",
      "comment: Best movie Avengers infinity war 2018 I was amazed to see so many negative reviews; so many people are impossible to please. This movie was 2 1/2 hours long, but I could have sat there another 2 1/2 hours and not noticed. Thoroughly entertaining, and I love how the directors weren't afraid to take chances. I've read a lot of other user reviews that claim that there's no plot. Unless you're mentally handicapped or not paying attention because you're on your phone the entire movie, the plot is pretty clear, and decent in my opinion.\n",
      "    \n",
      "score :1\n",
      "    \n",
      "comment: I absolutely loved this movie. It was intense, action-packed and emotional. Also delivering comedy when needed, but it was a relatively dark film. All of the actors delivered great performances and the characters continue to be fleshed out and be made human despite the fact that they're superheroes. This is easily the best superhero movie ever made. Thanos is one of the best villains of the MCU, as well as one of the best of Cinematic history in general. Upon first viewing, I hated him, but found his character intriguing. Similar to Emperor Palpatine in the Original and Prequel trilogies of Star Wars. The more times I rewatch it though, I start to understand Thanos' point of view more and more. The blurred lines with his motivations make the movie more compelling. Even driving some people to say that Thanos was right in all this. I wouldn't go that far, but I would say his character is misunderstood. Definitely a compelling villain in Thanos. The ending of the movie was insanely emotional, but I love how they (mainly) set aside the original Avengers team to take on Thanos in the fourth Avengers movie. I, for one, cannot wait.That eerie \"Thanos will return\" at the end of the film sent a chill down my spine. It truly is the end game now, and I can't wait to see the Avengers rise up and likely defeat Thanos in the next movie.+Every Hero has their moment to shine (Much like the villain wants, the movie achieves balance in this way)\n",
      "+Good Comedic moments to balance (again pun intended) the dark tone of the film\n",
      "+Emotional and Heavy ending (Seeing Earths Mightiest fail is something devastating to watch)\n",
      "+Complete hype moments that reward you for being a fan of this franchise for 10 years\n",
      "+Incredible performances\n",
      "+Phenomenal original score \n",
      "Etc. Not much you can find that's wrong with this movie. It's literally the perfect movie Marvel has been building up to for 10 years. And those that claim it didn't have an ending as a negative, I beg to differ. Just because the villain won doesn't mean it didn't have an ending. My Rating: 10/10\n",
      "    \n",
      "score :1\n",
      "    \n",
      "comment: With the beggining of the movie it was full of surpises. \n",
      "What I really liked in the movie was the serious tone and the real threat hanging over the Avengers. Yes...this is THANOS ! He is an amazing villain ! \n",
      "MARVEL Studious show us once again that their production are spectacular visual!\n",
      "    \n",
      "score :1\n",
      "    \n",
      "comment: This movie is currently the pinnacle of marvel movies. I've heard people criticize this movie for incredibly stupid reasons like being \"to long\" or using cgi. Those people are called weirdos. Watch the movie. It's good.\n",
      "    \n",
      "score :1\n",
      "    \n",
      "comment: Since 2012 I watched every MCU film in the cinema.\n",
      "It was part of my childhood and I was hyped on every single film when it was announced. So when Infinity War was announced it was something special. The final battle with our heroes against the ultimate villain.\n",
      "And it didn't dissapoint.\n",
      "I absolute loved it and the end shocked me.\n",
      "I went out of the cinema and couldn't believe it.\n",
      "For me it's the peak of the superhero genre alongside with Endgame.So now were in the Endgame...\n",
      "    \n",
      "score :1\n",
      "    \n",
      "comment: Theres nothing that i can say about this film that hasnt already been said,a visual spectacle,yeah thats been said before,an amazing action,already been said but i would certainly recomend this film.\n",
      "    \n",
      "score :9\n",
      "    \n",
      "comment: Have found myself liking or loving a lot of Marvel's previous work, while finding a few faults with most. It is very easy on the most part to see why they are highly regarded critically, though those more critical of their work have raised criticisms that can be agreed with by me. Loved the first 'Avengers' film, while 'Age of Ultron' was more problematic and generally a lesser Marvel effort though still having a good deal to admire. 'Infinity War' for me was the best one, or the one enjoyed most. Would also go far to say it's one of Marvel's overall best, and a perfect example of how to do a superhero film and how to balance a large cast of characters and a lot going on. Can totally see why it has been so positively reviewed and it deserves the positive hype from personal opinion, though would hesitate in calling it flawless or one of the best films ever. More could have been done with the very end, which felt like it ended a little too suddenly without resolving everything to full effect. It may very well have been leaving room for a follow-up, but to me it's always been dangerous somewhat to do that just in case a follow-up doesn't happen.Scarlett Johansson also has far too little to do, with too short screen-time. Black Widow is the only character to me who felt underdeveloped and Johansson struggles to do much with it.However, the rest of the cast are spot on. A big shout out goes to Josh Brolin, who makes for a menacing and melancholic Thanos. Speaking of Thanos, Marvel have tended to underwhelm with their villains, underwriting them and giving them vague or inconsistent motivations. Thanos is easily one of the best Marvel villains along with Hela, one of the most interesting and of surprising complexity where he is a threat but one can see his point of view.Robert Downey Jnr, Chris Evans and Chris Hemsworth are also standouts of a near-uniformly great all-star cast. There are a lot of characters here, but somehow on the most part it didn't feel like there were too many (a big danger with films with many characters and a trap fallen into quite a lot). They hold a lot of intrigue and manage not to be too sided and true to character. Likewise, the story is very eventful with a busy main story and several subplots. Yet it didn't feel sprawling and managed to make sense and never lose engagement. Basically it's a non-stop thrill-ride and tautly paced, with some reveals that leaves one gasping, twists that genuinely shock, rousing entrances and some of the finest action sequences of any Marvel film or any film recently, that are truly exciting and big in scale without being too noisy or exhausting. The climax is truly epic, in scale, spectacle, thrills and emotion. 'Avengers: Infinity War' hugely impresses in the script too, with snappy banter, hilarious quips (along with 'Thor: Ragnarok' this is one of the funniest Marvel films, Thor has the best of it), tension and an emotional poignancy not seen to this extent or as strongly in Marvel films. It's all intelligently handled and the humour didn't feel misplaced or inappropriate to me, this is a Marvel film that delivers on the spectacle and thrills while also having brains and heart. Marvel never disappoints when it comes to the production values. 'Avengers: Infinity War' is not an exception. It's beautifully and atmospherically designed, slickly filmed and edited and the special effects, not overused or abused, are some of the most extravagant and spectacular for any film seen recently. It's tightly directed and dynamically and rousingly scored. Overall, an excellent film and one of my standout viewings of all the films seen so far from the first half, and overall, of 2018. 9/10 Bethany Cox\n",
      "    \n",
      "score :1\n",
      "    \n",
      "comment: Engrossing, Epic, Emotional. Those are the three E's that define this movie. The latest instalment of the Marvel Cinematic Universe franchise is at its very best, culminating ten years of marvel adventure and spectacle with the biggest and most boldest movie in the superhero genre. \n",
      "So let's start with Anthony and Joe Russo, the geniuses that made this beast of a movie. After announcing that they will be directing the next two Avengers movies, Marvel fans knew at once that this will be the darkest Avengers movie yet. Yes, it was very dark with more of a serious tone. More than Winter Soldier and Civil War (previous marvel movies directed by the Russo Bothers) combined but they also had what the other Avengers movies had as well, the humour and it was not at all tasteless. Nobody really cared if it was necessary or not because the humour worked along with the edgy parts of the movie. This is by far the Russo brothers best work among the Marvel movies completely raising the bar of superhero movies to it's highest. Praise to Christopher Markus and Stephen McFeely for writing the amazing script (they also wrote the scripts of Captain America, The Avengers, Winter Soldier, Age of Ultron and Civil War also known to be the best marvel movies). \n",
      "Now, the characters and story. Practically everyone that you've seen in the previous marvel movies that aren't dead, are in this movie. Everyone had the chance to shine even if it's the smallest way possible. There were so many character arcs in this movie and none of them were cut short or boring. Every scene is in the movie was worth digesting and deciphering, along with the surprises and the twists and turns that will get audiences on the edge of their seat. Everything from character development to the pacing of the storyline, makes you jump, scream, gasp or cry. \n",
      "And of course, the one and only, Thanos. The villain that has been teased one too many times is finally here and he delivers. Josh Brolin officially portrays the best villain in the MCU, completely pissing on Marvel's villain problem. He brings all out on the table with everything he's got. Not only will you hate Thanos by the end of the movie, but you will understand him and maybe even feel sorry for him for a few seconds. They brought layers into him that no one has seen in a movie portrayal of a Marvel villain. They made him scary and strong at the same time vulnerable and understandable. The motivation of his doing and his character development made him the best character in the movie, making the movie all about him. \n",
      "I cannot tell you anymore about this movie because then I would be spoiling. All I have to say is that whether you're a marvel fan or not, and if you at least know what has been going on in the previous marvel movies, GO AND WATCH IT. It will not be a waste of your time or money. Digest this to prepare for what's to come. I may be bias once again but I just have to. I have to rate this movie 10/10. If I don't, I would be betraying myself.\n",
      "    \n",
      "score :9\n",
      "    \n",
      "comment: I went and looked, and I want to express my thoughts.I went to this film with very high expectations, with a sense of something. I went to him twice, the first time, myself, and the second with the family, and I was even surprised that my mother, sister and dad (who do not understand this movie at all) brought unreal pleasure and an ocean of emotions.Each frame, each scene does not let you get bored, from the Marvel logo, and to the stage after the credits. Favorite heroes once again experienced side by side and you feel it, you are completely absorbed in a hurricane of events and you are watching it in one breath. In comparison with the War of Infinity, even the Confrontation looks like an ordinary fight in the sandbox.Uuuu, and the villain, the best as for me the best in this kirovoveselennoy, he is not just a bot at once, without motivation, no, it's just the opposite. I liked Thanos so much that you do not want to, and he began to impress me, in terms of his convictions (I had it only once, with Joker Heath Ledger). He has feelings, he makes choices, he's alive.Tense scenes are beautiful, in one moment I still let off a meager male tear (and this happens to me very, very rarely). What about the humor, the jokes are correct for me, and they do not bother you like Thor: Ragnarok, although in the beginning they look a little tight. Well, the action, it is very high-quality, and in comparison with the Black Panther is generally ideal.And of course the film can not be without punctures. The lack of predictability of some story lines, and a couple of moments that were very predictable, but they are fade against the background of all this scale.Yes, you will not find anything in this film about something, something, but, what, what, what, steep humor. Thanks to Marvel and of course the Rousseau brothers, the beautiful actors and the wonderful movie that I've been waiting for for 3 years.Out of 10, I give the War of Infinity 9.\n",
      "    \n",
      "score :9\n",
      "    \n",
      "comment: Well, Well, Well....I was so ready to tear this down - 19th MCU film, too many stars, bloated CGI, first of a two parter, and so on and so on...Yet, this is so much fun. Pure popcorn...now in the dictionary under \"popcorn film\" is just the poster for this film. Somehow, the Russo Brothers have juggled all the parts to give everyone some time in the sun. They are helped immensely by two things: the premise is so pure Mcguffin that you just watch Thanos look for Infinity Stones which gives a primal momentum and that the film's stars/characters are looking to move on - that means, actual stakes for once as people could really die and not just comic book dying either.The DC people must be kicking themselves. The lightness and comedic touches are brilliant. You are laughing out loud, comedy level, but at totally organic character humour. It means you are so entertained throughout its rather long running time.The other big surprise is Thanos himself. Normally, I hate CGI characters but somehow they have made Thanos and Josh Brolin work enough to give the character an actual arc. This is one of the better MCU villains and I never thought I would write that.The stakes are real, the charisma levels are amazing, it is like \"Oceans 28\" and I can't wait for the sequel...that says an enormous amount considering the challenges this film faced.\n",
      "    \n",
      "score :1\n",
      "    \n",
      "comment: Oh. My. God. What an incredible film! I've never done a review of a movie before, I've only done TV shows. So bare with me, I'm gonna discuss the major points and chuck in a theory or two. But to start off...Wow. This film could be the best Marvel movie ever! But I will give it a few days to digest and probably a second viewing before deciding on that. It absolutely lived up to the 10 year build up since Iron Man 1, how far we've come in a quick 10 years is remarkable. The Thanos character absolutely hit the mark. He was menacing, intimidating, vicious and so much more. Props to the actor who played him. Thanos' plan succeeds (for the time being) and we get a whole lot of \"death\" because of it. In this movie there was death, and \"death\". The former refers to characters such as Loki, Vision and Gamora. We saw these characters die and there bodies be left behind. For this movie not to lose credibility, these characters, in my opinion, must remain dead. Now \"death\" refers to what we saw at the end, Thanos, with all infinity stones, clicked his fingers and half of humanity, including half of the avengers (important to note that all the original avengers are still alive) dissolved into dust giving the impression of death. I expect these characters to come back at some point during the next Avengers film, most likely due to the originals saving them. My final theory regards Doctor Strange. On the ship with Stark and Spidey, Strange said that if it came to it he would save his stone over Stark and Spidey's lives. However, in the end we see Strange give up the stone to Thanos on the condition Stark stay alive. My prediction is that when Strange saw all the possible futures, the only future in which they win must heavily rely on Tony Stark. Which makes sense, Tony started it all so he should finish it. Incredible film, can't wait for the next one to see how it all resolves. 9.8/10\n",
      "    \n",
      "score :9\n",
      "    \n",
      "comment: Let me be clear Infinity War is not flawless, it has its faults but thankfully they are overshadowed by two hours of awesomeness.Every movie in the Marvel universe for the last decade has ultimately been building up to this therefore expectations were through the roof and for the most part it delivers.Almost every character from the MCU teams up to face its most dangerous foe yet, the mad titan himself Thanos and if you know anything about the comics then going in you'd know to brace yourself for heartache.With all the hype as to who wouldn't survive the film I'm left wondering just how many deaths are permanent, this is a superhero universe after all so never say never.Though the story and Thanos's motivations differ from the comic this can be forgiven as the new story is wafer thin but competent.As you can imagine one of the most exciting things about Infinity War was uniting heroes we've never seen side by side and that certainly delivers on all fronts. The action is thick and fast, despite the dark overtone we have plenty of comedy and teenage Groot didn't ruin the film like I feared he would.Obviously this is not a big finale and merely a high profile chapter in a much larger story but the movie is highly climatic regardless.I am saddened that this wasn't a two parter, alike Civil War (2016) this was a huge story and perhaps should have been broken up across movies.Infinity War is a contender for the best Marvel movie and instead of feeling burnt out after the never ending stream of films this has wet my appetite for more and I can't wait for the next film.Excellent stuff, though where in the blue hell was Ant Man?The Good:Children of ThanosThanosAll out action as expectedTies everything together nicelyThe Bad:Peter Dinklage (Never thought I'd say that)So many characters were spread too thinThings I Learnt From This Movie:If Thanos and Cable ever meet its going to be super weirdDishonest footage/photos are commonplace now (Look up the footage of Hulk in Wakanda running with the rest of the team) Seriously, never happened.Somewhere out there right now are DC fans claiming this is a bad film\n",
      "    \n",
      "score :9\n",
      "    \n",
      "comment: This movie has made me feel things that I haven't about a movie in a very long time. If you are anything like me you will definitely feel a sense of \"everything is gonna be alright\" because of the generous sprinkling of light humour that makes the situation feel less serious than it actually is. The emotional roller coaster that begins right at the beginning of the movie to the very end has you feeling more and more frustrated and on edge as it goes on. Don't get me wrong this movie is absolutely stunning and amazing and a cliffhanger at the end has you wanting more and more. I'm definitely very excited to see how this storyline will carry out in the next Avengers movie.\n",
      "    \n"
     ]
    }
   ],
   "source": [
    "lis = source.select('div.lister-list > div.imdb-user-review')\n",
    "\n",
    "for i in range(len(lis)):\n",
    "    score = lis[i].find('span').text.strip()[0]\n",
    "    text = lis[i].find('div',{'class':'text show-more__control'}).text.strip()\n",
    "    print('score :' + score)\n",
    "    print('    ')\n",
    "    print('comment: ' + text)\n",
    "    print('    ')"
   ]
  },
  {
   "cell_type": "markdown",
   "metadata": {},
   "source": [
    "## *코로나 현황 크롤링 실습* \n",
    "간단 ver."
   ]
  },
  {
   "cell_type": "code",
   "execution_count": 17,
   "metadata": {},
   "outputs": [],
   "source": [
    "# 오늘의 코로나 현황\n",
    "\n",
    "webpage = urlopen('http://ncov.mohw.go.kr/') #웹페이지 url 끌어오기\n",
    "source_corona = BeautifulSoup(webpage, 'html.parser',from_encoding='utf-8') #html.parser 이용하여 html 구조 가져오기"
   ]
  },
  {
   "cell_type": "code",
   "execution_count": 19,
   "metadata": {},
   "outputs": [],
   "source": [
    "# source_corona"
   ]
  },
  {
   "cell_type": "code",
   "execution_count": 20,
   "metadata": {},
   "outputs": [],
   "source": [
    "#웹페이지 개발자 도구 (윈도우는 f12, 맥은 사파리 설정)\n",
    "#원하는 부분의 <A class =  B> \n",
    "#변수 = 위의 source.findAll( A, {'class':'B'})\n",
    "\n",
    "div = source_corona.findAll('span',{'class': 'data'}) "
   ]
  },
  {
   "cell_type": "code",
   "execution_count": 21,
   "metadata": {},
   "outputs": [
    {
     "data": {
      "text/plain": [
       "[<span class=\"data\">833</span>, <span class=\"data\">37</span>]"
      ]
     },
     "execution_count": 21,
     "metadata": {},
     "output_type": "execute_result"
    }
   ],
   "source": [
    "#html의 구조 get\n",
    "div"
   ]
  },
  {
   "cell_type": "code",
   "execution_count": 10,
   "metadata": {},
   "outputs": [
    {
     "name": "stdout",
     "output_type": "stream",
     "text": [
      "833\n",
      "37\n"
     ]
    }
   ],
   "source": [
    "#여기서 필요한 텍스트만 뽑아볼 것임\n",
    "for a in div:\n",
    "    print(a.get_text().strip())"
   ]
  },
  {
   "cell_type": "code",
   "execution_count": 11,
   "metadata": {},
   "outputs": [],
   "source": [
    "#리스트화 시켜서 프린트 할 때 편하게...\n",
    "list = []\n",
    "for a in div:\n",
    "    list.append(a.get_text())"
   ]
  },
  {
   "cell_type": "code",
   "execution_count": 12,
   "metadata": {},
   "outputs": [
    {
     "data": {
      "text/plain": [
       "['833', '37']"
      ]
     },
     "execution_count": 12,
     "metadata": {},
     "output_type": "execute_result"
    }
   ],
   "source": [
    "list"
   ]
  },
  {
   "cell_type": "code",
   "execution_count": 13,
   "metadata": {},
   "outputs": [
    {
     "name": "stdout",
     "output_type": "stream",
     "text": [
      ">> #오늘의 #국내 #코로나19 #현황 \n",
      "\n",
      "국내 유입: 833 해외유입: 37\n"
     ]
    }
   ],
   "source": [
    "print('>> #오늘의 #국내 #코로나19 #현황 \\n')\n",
    "print('국내 유입:' ,list[0], '해외유입:' , list[1])"
   ]
  },
  {
   "cell_type": "markdown",
   "metadata": {},
   "source": [
    "*여러 페이지에 있는 리뷰 크롤링하고, 파일로 저장하기*\n",
    "========"
   ]
  },
  {
   "cell_type": "markdown",
   "metadata": {},
   "source": [
    "> ### 1. 제목, 평점, 리뷰 들어있는 csv 만들어보기 \n",
    ">>#### 네이버 평점, 리뷰 칸 속 평점.리뷰 들어가보면 여러개의 리뷰들이 나옴.\n",
    ">### 2. html의 구조를 살펴보면\n",
    ">>#### table.list_netizen > tbody > tr > td.title 속에 내용 다 있음.\n",
    ">>>#### 제목 => a.movie.color_b\n",
    ">>>#### 평점 => div.list_netizen_score > em\n",
    ">>>#### 리뷰 => br 하위의 텍스트를 반환해야하는 것. => br.next_sibling 사용."
   ]
  },
  {
   "cell_type": "code",
   "execution_count": 23,
   "metadata": {},
   "outputs": [
    {
     "name": "stdout",
     "output_type": "stream",
     "text": [
      "10\n"
     ]
    }
   ],
   "source": [
    "import requests #파이썬에서 http 요청 보내는 라이브러리 \n",
    "from urllib import parse\n",
    "from bs4 import BeautifulSoup #html 구조에서 간딴히 정보 빼내기 위해 사용하는 라이브러리\n",
    "url = 'https://movie.naver.com/movie/point/af/list.nhn?&page=1'\n",
    "res = requests.get(url)\n",
    "\n",
    "soup = BeautifulSoup(res.text,'lxml')\n",
    "tds = soup.select('table.list_netizen > tbody > tr > td.title')\n",
    "print(len(tds))\n"
   ]
  },
  {
   "cell_type": "code",
   "execution_count": 24,
   "metadata": {},
   "outputs": [
    {
     "data": {
      "text/plain": [
       "[<td class=\"title\">\n",
       " <a class=\"movie color_b\" href=\"?st=mcode&amp;sword=66520&amp;target=after\">터미네이터: 미래전쟁의 시작</a>\n",
       " <div class=\"list_netizen_score\">\n",
       " <span class=\"st_off\"><span class=\"st_on\" style=\"width:80%\">별점 - 총 10점 중</span></span><em>8</em>\n",
       " </div>\n",
       " <br/>터미네이터 시리즈 중에선 그래도 상위권 \n",
       " \t\t\t\n",
       " \t\t\t\n",
       " \t\t\t\n",
       " \t\t\t\t\n",
       " \t\t\t\t\n",
       " \t\t\t\t\n",
       " \t\t\t\t<a class=\"report\" href=\"#\" onclick=\"report('dxma****', 'fLot3Z2az3HLHUN7PJZthEBZq/nVMFeP/BHFK4a4teY=', '터미네이터 시리즈 중에선 그래도 상위권', '17329908', 'point_after');\" style=\"color:#8F8F8F\" title=\"새 창\">신고</a>\n",
       " </td>,\n",
       " <td class=\"title\">\n",
       " <a class=\"movie color_b\" href=\"?st=mcode&amp;sword=199393&amp;target=after\">조제</a>\n",
       " <div class=\"list_netizen_score\">\n",
       " <span class=\"st_off\"><span class=\"st_on\" style=\"width:60%\">별점 - 총 10점 중</span></span><em>6</em>\n",
       " </div>\n",
       " <br/>조제가 더 이상 기대지않고 혼자서도 일어서는 과정 \n",
       " \t\t\t\n",
       " \t\t\t\n",
       " \t\t\t\n",
       " \t\t\t\t\n",
       " \t\t\t\t\n",
       " \t\t\t\t\n",
       " \t\t\t\t<a class=\"report\" href=\"#\" onclick=\"report('sseu****', '7lZ52U0tGmbnWuYl/HkYF55JoSyxaA3PQ+Qd72utXLg=', '조제가 더 이상 기대지않고 혼자서도 일어서는 과정 ', '17329907', 'point_after');\" style=\"color:#8F8F8F\" title=\"새 창\">신고</a>\n",
       " </td>,\n",
       " <td class=\"title\">\n",
       " <a class=\"movie color_b\" href=\"?st=mcode&amp;sword=192613&amp;target=after\">디지몬 어드벤처 라스트 에볼루션 : 인연</a>\n",
       " <div class=\"list_netizen_score\">\n",
       " <span class=\"st_off\"><span class=\"st_on\" style=\"width:90%\">별점 - 총 10점 중</span></span><em>9</em>\n",
       " </div>\n",
       " <br/>어른이 됐다는걸 느끼게해주는영화 다음편도 나올것같음 \n",
       " \t\t\t\n",
       " \t\t\t\n",
       " \t\t\t\n",
       " \t\t\t\t\n",
       " \t\t\t\t\n",
       " \t\t\t\t\n",
       " \t\t\t\t<a class=\"report\" href=\"#\" onclick=\"report('rlaw****', '1/ZaJAdDfYUfDfh7Oz2oO1ZxGaf+hnTiRzd+UMazR44=', '어른이 됐다는걸 느끼게해주는영화 다음편도 나올것같음', '17329906', 'point_after');\" style=\"color:#8F8F8F\" title=\"새 창\">신고</a>\n",
       " </td>,\n",
       " <td class=\"title\">\n",
       " <a class=\"movie color_b\" href=\"?st=mcode&amp;sword=194195&amp;target=after\">차인표</a>\n",
       " <div class=\"list_netizen_score\">\n",
       " <span class=\"st_off\"><span class=\"st_on\" style=\"width:10%\">별점 - 총 10점 중</span></span><em>1</em>\n",
       " </div>\n",
       " <br/>차인표가 투자, 제작한줄 \n",
       " \t\t\t\n",
       " \t\t\t\n",
       " \t\t\t\n",
       " \t\t\t\t\n",
       " \t\t\t\t\n",
       " \t\t\t\t\n",
       " \t\t\t\t<a class=\"report\" href=\"#\" onclick=\"report('wang****', 'qTvYYEFBLBIwKWWi4FEpXRVQflk2cN3POOldVtd3EQU=', '차인표가 투자, 제작한줄', '17329905', 'point_after');\" style=\"color:#8F8F8F\" title=\"새 창\">신고</a>\n",
       " </td>,\n",
       " <td class=\"title\">\n",
       " <a class=\"movie color_b\" href=\"?st=mcode&amp;sword=134899&amp;target=after\">동주</a>\n",
       " <div class=\"list_netizen_score\">\n",
       " <span class=\"st_off\"><span class=\"st_on\" style=\"width:100%\">별점 - 총 10점 중</span></span><em>10</em>\n",
       " </div>\n",
       " <br/>인생영화! 여운이 남는 영화다 \n",
       " \t\t\t\n",
       " \t\t\t\n",
       " \t\t\t\n",
       " \t\t\t\t\n",
       " \t\t\t\t\n",
       " \t\t\t\t\n",
       " \t\t\t\t<a class=\"report\" href=\"#\" onclick=\"report('hyun****', 'XoM5pmWDbum018LuexFMVOHrgKG693i9nk3A3UWU1mA=', '인생영화! 여운이 남는 영화다', '17329904', 'point_after');\" style=\"color:#8F8F8F\" title=\"새 창\">신고</a>\n",
       " </td>,\n",
       " <td class=\"title\">\n",
       " <a class=\"movie color_b\" href=\"?st=mcode&amp;sword=199393&amp;target=after\">조제</a>\n",
       " <div class=\"list_netizen_score\">\n",
       " <span class=\"st_off\"><span class=\"st_on\" style=\"width:10%\">별점 - 총 10점 중</span></span><em>1</em>\n",
       " </div>\n",
       " <br/>저 영화보다 처음으로 잤어요 기억 안나는데 일어나서 오분정도 봤는데 영화 끝나서 뭐지? 했는데 앞에 분 울고 계시길래 빨리 나왔어요 \n",
       " \t\t\t\n",
       " \t\t\t\n",
       " \t\t\t\n",
       " \t\t\t\t\n",
       " \t\t\t\t\n",
       " \t\t\t\t\n",
       " \t\t\t\t<a class=\"report\" href=\"#\" onclick=\"report('yeji****', '06K3z1iQLvHdCCqQZvQyHO0aysLs8fZAX7+v9d6gCj8=', '저 영화보다 처음으로 잤어요 기억 안나는데 일어나서 오분정도 봤는데 영화 끝나서 뭐지? 했는데 앞에 분 울고 계시길래 빨리 나왔어요', '17329903', 'point_after');\" style=\"color:#8F8F8F\" title=\"새 창\">신고</a>\n",
       " </td>,\n",
       " <td class=\"title\">\n",
       " <a class=\"movie color_b\" href=\"?st=mcode&amp;sword=107924&amp;target=after\">수상한 그녀</a>\n",
       " <div class=\"list_netizen_score\">\n",
       " <span class=\"st_off\"><span class=\"st_on\" style=\"width:100%\">별점 - 총 10점 중</span></span><em>10</em>\n",
       " </div>\n",
       " <br/>짱재밌음 걍 보세요 내가 좋아하는 영화임 \n",
       " \t\t\t\n",
       " \t\t\t\n",
       " \t\t\t\n",
       " \t\t\t\t\n",
       " \t\t\t\t\n",
       " \t\t\t\t\n",
       " \t\t\t\t<a class=\"report\" href=\"#\" onclick=\"report('qjfn****', '1DxAi6T+KxQVmTVkn3i9wTY0egEAj1aMphW0wDoa7rA=', '짱재밌음 걍 보세요 내가 좋아하는 영화임', '17329902', 'point_after');\" style=\"color:#8F8F8F\" title=\"새 창\">신고</a>\n",
       " </td>,\n",
       " <td class=\"title\">\n",
       " <a class=\"movie color_b\" href=\"?st=mcode&amp;sword=76377&amp;target=after\">랭고</a>\n",
       " <div class=\"list_netizen_score\">\n",
       " <span class=\"st_off\"><span class=\"st_on\" style=\"width:100%\">별점 - 총 10점 중</span></span><em>10</em>\n",
       " </div>\n",
       " <br/>\n",
       " <a class=\"report\" href=\"#\" onclick=\"report('jk40****', 'tqKsKrIgfubzkuYcqtNjEfzYDv6w7b4tpeTzvNjr8wI=', '', '17329901', 'point_after');\" style=\"color:#8F8F8F\" title=\"새 창\">신고</a>\n",
       " </td>,\n",
       " <td class=\"title\">\n",
       " <a class=\"movie color_b\" href=\"?st=mcode&amp;sword=124041&amp;target=after\">차이나타운</a>\n",
       " <div class=\"list_netizen_score\">\n",
       " <span class=\"st_off\"><span class=\"st_on\" style=\"width:60%\">별점 - 총 10점 중</span></span><em>6</em>\n",
       " </div>\n",
       " <br/>스토리가 진부하고 개연성도 떨어져서보다가 갸우뚱하게됨그냥 비극적인 여성 느와르를 억지로 만든 느낌그래도 지루하진 않고, 김혜수 표정연기가 영화를조금은 살림 \n",
       " \t\t\t\n",
       " \t\t\t\n",
       " \t\t\t\n",
       " \t\t\t\t\n",
       " \t\t\t\t\n",
       " \t\t\t\t\n",
       " \t\t\t\t<a class=\"report\" href=\"#\" onclick=\"report('yjy1****', 's/aQTraUTZwEFeH6wk7XWBXtJBT6IQb1+8ns9UlvKqU=', '스토리가 진부하고 개연성도 떨어져서보다가 갸우뚱하게됨그냥 비극적인 여성 느와르를 억지로 만든 느낌그래도 지루하진 않고, 김혜수 표정연기가 영화를조금은 살림', '17329900', 'point_after');\" style=\"color:#8F8F8F\" title=\"새 창\">신고</a>\n",
       " </td>,\n",
       " <td class=\"title\">\n",
       " <a class=\"movie color_b\" href=\"?st=mcode&amp;sword=144938&amp;target=after\">씽</a>\n",
       " <div class=\"list_netizen_score\">\n",
       " <span class=\"st_off\"><span class=\"st_on\" style=\"width:80%\">별점 - 총 10점 중</span></span><em>8</em>\n",
       " </div>\n",
       " <br/>음악으로 귀호강! 연말에 보기 좋은 황홀한 영화.두려움으로 사랑하는 것을 포기하지 말 것 \n",
       " \t\t\t\n",
       " \t\t\t\n",
       " \t\t\t\n",
       " \t\t\t\t\n",
       " \t\t\t\t\n",
       " \t\t\t\t\n",
       " \t\t\t\t<a class=\"report\" href=\"#\" onclick=\"report('sseu****', 'V/pPLtBmc2WL1Ma6Y0RP70CcphoV7v08yAT04eMeB+s=', '음악으로 귀호강! 연말에 보기 좋은 황홀한 영화.두려움으로 사랑하는 것을 포기하지 말 것', '17329899', 'point_after');\" style=\"color:#8F8F8F\" title=\"새 창\">신고</a>\n",
       " </td>]"
      ]
     },
     "execution_count": 24,
     "metadata": {},
     "output_type": "execute_result"
    }
   ],
   "source": [
    "tds"
   ]
  },
  {
   "cell_type": "code",
   "execution_count": 25,
   "metadata": {},
   "outputs": [
    {
     "data": {
      "text/plain": [
       "<td class=\"title\">\n",
       "<a class=\"movie color_b\" href=\"?st=mcode&amp;sword=66520&amp;target=after\">터미네이터: 미래전쟁의 시작</a>\n",
       "<div class=\"list_netizen_score\">\n",
       "<span class=\"st_off\"><span class=\"st_on\" style=\"width:80%\">별점 - 총 10점 중</span></span><em>8</em>\n",
       "</div>\n",
       "<br/>터미네이터 시리즈 중에선 그래도 상위권 \n",
       "\t\t\t\n",
       "\t\t\t\n",
       "\t\t\t\n",
       "\t\t\t\t\n",
       "\t\t\t\t\n",
       "\t\t\t\t\n",
       "\t\t\t\t<a class=\"report\" href=\"#\" onclick=\"report('dxma****', 'fLot3Z2az3HLHUN7PJZthEBZq/nVMFeP/BHFK4a4teY=', '터미네이터 시리즈 중에선 그래도 상위권', '17329908', 'point_after');\" style=\"color:#8F8F8F\" title=\"새 창\">신고</a>\n",
       "</td>"
      ]
     },
     "execution_count": 25,
     "metadata": {},
     "output_type": "execute_result"
    }
   ],
   "source": [
    "tds[0]"
   ]
  },
  {
   "cell_type": "code",
   "execution_count": 26,
   "metadata": {},
   "outputs": [
    {
     "name": "stdout",
     "output_type": "stream",
     "text": [
      "터미네이터: 미래전쟁의 시작 / 8 / 터미네이터 시리즈 중에선 그래도 상위권\n",
      "조제 / 6 / 조제가 더 이상 기대지않고 혼자서도 일어서는 과정\n",
      "디지몬 어드벤처 라스트 에볼루션 : 인연 / 9 / 어른이 됐다는걸 느끼게해주는영화 다음편도 나올것같음\n",
      "차인표 / 1 / 차인표가 투자, 제작한줄\n",
      "동주 / 10 / 인생영화! 여운이 남는 영화다\n",
      "조제 / 1 / 저 영화보다 처음으로 잤어요 기억 안나는데 일어나서 오분정도 봤는데 영화 끝나서 뭐지? 했는데 앞에 분 울고 계시길래 빨리 나왔어요\n",
      "수상한 그녀 / 10 / 짱재밌음 걍 보세요 내가 좋아하는 영화임\n",
      "랭고 / 10 / \n",
      "차이나타운 / 6 / 스토리가 진부하고 개연성도 떨어져서보다가 갸우뚱하게됨그냥 비극적인 여성 느와르를 억지로 만든 느낌그래도 지루하진 않고, 김혜수 표정연기가 영화를조금은 살림\n",
      "씽 / 8 / 음악으로 귀호강! 연말에 보기 좋은 황홀한 영화.두려움으로 사랑하는 것을 포기하지 말 것\n"
     ]
    }
   ],
   "source": [
    "comment_list=[]\n",
    "for td in tds: \n",
    "    movie_title = td.find('a').text.strip()\n",
    "#     link = td.select_one('a.movie.color_b').get('href')\n",
    "#     link = parse.urljoin('https://movie.naver.com/movie/point/af/list.nhn?&page=2', link)\n",
    "    score = td.select_one('div.list_netizen_score > em ').text.strip()\n",
    "    comment = td.select_one('br').next_sibling.strip()\n",
    "    comment_list.append((movie_title,score,comment))\n",
    "    \n",
    "    print(movie_title, score, comment, sep=\" / \")"
   ]
  },
  {
   "cell_type": "code",
   "execution_count": 29,
   "metadata": {},
   "outputs": [
    {
     "data": {
      "text/html": [
       "<div>\n",
       "<style scoped>\n",
       "    .dataframe tbody tr th:only-of-type {\n",
       "        vertical-align: middle;\n",
       "    }\n",
       "\n",
       "    .dataframe tbody tr th {\n",
       "        vertical-align: top;\n",
       "    }\n",
       "\n",
       "    .dataframe thead th {\n",
       "        text-align: right;\n",
       "    }\n",
       "</style>\n",
       "<table border=\"1\" class=\"dataframe\">\n",
       "  <thead>\n",
       "    <tr style=\"text-align: right;\">\n",
       "      <th></th>\n",
       "      <th>제목</th>\n",
       "      <th>평점</th>\n",
       "      <th>리뷰</th>\n",
       "    </tr>\n",
       "  </thead>\n",
       "  <tbody>\n",
       "    <tr>\n",
       "      <th>0</th>\n",
       "      <td>터미네이터: 미래전쟁의 시작</td>\n",
       "      <td>8</td>\n",
       "      <td>터미네이터 시리즈 중에선 그래도 상위권</td>\n",
       "    </tr>\n",
       "    <tr>\n",
       "      <th>1</th>\n",
       "      <td>조제</td>\n",
       "      <td>6</td>\n",
       "      <td>조제가 더 이상 기대지않고 혼자서도 일어서는 과정</td>\n",
       "    </tr>\n",
       "    <tr>\n",
       "      <th>2</th>\n",
       "      <td>디지몬 어드벤처 라스트 에볼루션 : 인연</td>\n",
       "      <td>9</td>\n",
       "      <td>어른이 됐다는걸 느끼게해주는영화 다음편도 나올것같음</td>\n",
       "    </tr>\n",
       "    <tr>\n",
       "      <th>3</th>\n",
       "      <td>차인표</td>\n",
       "      <td>1</td>\n",
       "      <td>차인표가 투자, 제작한줄</td>\n",
       "    </tr>\n",
       "    <tr>\n",
       "      <th>4</th>\n",
       "      <td>동주</td>\n",
       "      <td>10</td>\n",
       "      <td>인생영화! 여운이 남는 영화다</td>\n",
       "    </tr>\n",
       "    <tr>\n",
       "      <th>5</th>\n",
       "      <td>조제</td>\n",
       "      <td>1</td>\n",
       "      <td>저 영화보다 처음으로 잤어요 기억 안나는데 일어나서 오분정도 봤는데 영화 끝나서 뭐...</td>\n",
       "    </tr>\n",
       "    <tr>\n",
       "      <th>6</th>\n",
       "      <td>수상한 그녀</td>\n",
       "      <td>10</td>\n",
       "      <td>짱재밌음 걍 보세요 내가 좋아하는 영화임</td>\n",
       "    </tr>\n",
       "    <tr>\n",
       "      <th>7</th>\n",
       "      <td>랭고</td>\n",
       "      <td>10</td>\n",
       "      <td></td>\n",
       "    </tr>\n",
       "    <tr>\n",
       "      <th>8</th>\n",
       "      <td>차이나타운</td>\n",
       "      <td>6</td>\n",
       "      <td>스토리가 진부하고 개연성도 떨어져서보다가 갸우뚱하게됨그냥 비극적인 여성 느와르를 억...</td>\n",
       "    </tr>\n",
       "    <tr>\n",
       "      <th>9</th>\n",
       "      <td>씽</td>\n",
       "      <td>8</td>\n",
       "      <td>음악으로 귀호강! 연말에 보기 좋은 황홀한 영화.두려움으로 사랑하는 것을 포기하지 말 것</td>\n",
       "    </tr>\n",
       "  </tbody>\n",
       "</table>\n",
       "</div>"
      ],
      "text/plain": [
       "                       제목  평점  \\\n",
       "0         터미네이터: 미래전쟁의 시작   8   \n",
       "1                      조제   6   \n",
       "2  디지몬 어드벤처 라스트 에볼루션 : 인연   9   \n",
       "3                     차인표   1   \n",
       "4                      동주  10   \n",
       "5                      조제   1   \n",
       "6                  수상한 그녀  10   \n",
       "7                      랭고  10   \n",
       "8                   차이나타운   6   \n",
       "9                       씽   8   \n",
       "\n",
       "                                                  리뷰  \n",
       "0                              터미네이터 시리즈 중에선 그래도 상위권  \n",
       "1                        조제가 더 이상 기대지않고 혼자서도 일어서는 과정  \n",
       "2                       어른이 됐다는걸 느끼게해주는영화 다음편도 나올것같음  \n",
       "3                                      차인표가 투자, 제작한줄  \n",
       "4                                   인생영화! 여운이 남는 영화다  \n",
       "5  저 영화보다 처음으로 잤어요 기억 안나는데 일어나서 오분정도 봤는데 영화 끝나서 뭐...  \n",
       "6                             짱재밌음 걍 보세요 내가 좋아하는 영화임  \n",
       "7                                                     \n",
       "8  스토리가 진부하고 개연성도 떨어져서보다가 갸우뚱하게됨그냥 비극적인 여성 느와르를 억...  \n",
       "9  음악으로 귀호강! 연말에 보기 좋은 황홀한 영화.두려움으로 사랑하는 것을 포기하지 말 것  "
      ]
     },
     "execution_count": 29,
     "metadata": {},
     "output_type": "execute_result"
    }
   ],
   "source": [
    "import pandas as pd\n",
    "\n",
    "df = pd.DataFrame(comment_list, columns=['제목','평점','리뷰'])\n",
    "df\n",
    "#df.to_csv('naver_comment.csv', encoding= 'utf-8', index=False)"
   ]
  },
  {
   "cell_type": "markdown",
   "metadata": {},
   "source": [
    "### 만약 두번째 페이지도 이어서 크롤링하고 싶다면? For 문을 사용하자!\n",
    "\n",
    "https://movie.naver.com/movie/point/af/list.nhn?&page=1\n",
    "\n",
    "\n",
    "https://movie.naver.com/movie/point/af/list.nhn?&page=2\n",
    "\n",
    "\n",
    "이런식으로 페이지 뒷부분에 숫자의 변화가 생김."
   ]
  },
  {
   "cell_type": "code",
   "execution_count": 30,
   "metadata": {},
   "outputs": [
    {
     "name": "stdout",
     "output_type": "stream",
     "text": [
      "종료\n"
     ]
    }
   ],
   "source": [
    "base_url = 'https://movie.naver.com/movie/point/af/list.nhn?&page={}'\n",
    "comment_list=[]\n",
    "\n",
    "import time\n",
    "import random\n",
    "\n",
    "for page in range (10):\n",
    "    url = base_url.format(page)\n",
    "    res = requests.get(url)\n",
    "    \n",
    "    soup = BeautifulSoup(res.text,'lxml')\n",
    "    tds = soup.select('table.list_netizen > tbody > tr > td.title')\n",
    "    \n",
    "    for td in tds: \n",
    "        movie_title = td.find('a').text.strip()\n",
    "#         link = td.select_one('a.movie.color_b').get('href')\n",
    "#         link = parse.urljoin('https://movie.naver.com/movie/point/af/list.nhn?&page=2', link)\n",
    "        score = td.select_one('div.list_netizen_score > em ').text.strip()\n",
    "        comment = td.select_one('br').next_sibling.strip()\n",
    "        comment_list.append((movie_title,score, comment))\n",
    "\n",
    "    interval = round(random.uniform(0.2,1),2)\n",
    "    time.sleep(interval)\n",
    "\n",
    "print('종료')"
   ]
  },
  {
   "cell_type": "code",
   "execution_count": 31,
   "metadata": {},
   "outputs": [],
   "source": [
    "df = pd.DataFrame(comment_list, columns=['제목','평점','리뷰'])\n",
    "df.to_csv('naver_comment.csv', encoding= 'utf-8', index=False)"
   ]
  },
  {
   "cell_type": "code",
   "execution_count": 32,
   "metadata": {},
   "outputs": [
    {
     "data": {
      "text/html": [
       "<div>\n",
       "<style scoped>\n",
       "    .dataframe tbody tr th:only-of-type {\n",
       "        vertical-align: middle;\n",
       "    }\n",
       "\n",
       "    .dataframe tbody tr th {\n",
       "        vertical-align: top;\n",
       "    }\n",
       "\n",
       "    .dataframe thead th {\n",
       "        text-align: right;\n",
       "    }\n",
       "</style>\n",
       "<table border=\"1\" class=\"dataframe\">\n",
       "  <thead>\n",
       "    <tr style=\"text-align: right;\">\n",
       "      <th></th>\n",
       "      <th>제목</th>\n",
       "      <th>평점</th>\n",
       "      <th>리뷰</th>\n",
       "    </tr>\n",
       "  </thead>\n",
       "  <tbody>\n",
       "    <tr>\n",
       "      <th>0</th>\n",
       "      <td>타이타닉 2</td>\n",
       "      <td>1</td>\n",
       "      <td>2.22점을 위한 노오력</td>\n",
       "    </tr>\n",
       "    <tr>\n",
       "      <th>1</th>\n",
       "      <td>리틀 포레스트</td>\n",
       "      <td>10</td>\n",
       "      <td>자극적인 맛이 아닌 깨끗하고 슴슴한 맛. 하지만 다양하고 깊다.</td>\n",
       "    </tr>\n",
       "    <tr>\n",
       "      <th>2</th>\n",
       "      <td>리틀 이블</td>\n",
       "      <td>6</td>\n",
       "      <td>연출과 편집은 깔끔했지만 중후반부 부터 똘끼가 떨어지며 이야기의 맥이 죽었다. 더 ...</td>\n",
       "    </tr>\n",
       "    <tr>\n",
       "      <th>3</th>\n",
       "      <td>콜</td>\n",
       "      <td>10</td>\n",
       "      <td>전종서 연기가 믿고 보는 영화...</td>\n",
       "    </tr>\n",
       "    <tr>\n",
       "      <th>4</th>\n",
       "      <td>월드 인베이젼</td>\n",
       "      <td>6</td>\n",
       "      <td>네이버 평점보고 봤다가 후회막급, 전형적인 미국뽕영화 해병은 영원하다며 한명 영웅만...</td>\n",
       "    </tr>\n",
       "    <tr>\n",
       "      <th>...</th>\n",
       "      <td>...</td>\n",
       "      <td>...</td>\n",
       "      <td>...</td>\n",
       "    </tr>\n",
       "    <tr>\n",
       "      <th>95</th>\n",
       "      <td>차인표</td>\n",
       "      <td>5</td>\n",
       "      <td>평점 알바가 정말로 존재한 다는 것을 알게됨..절대로 기대하고 보면 안됨. 10점 ...</td>\n",
       "    </tr>\n",
       "    <tr>\n",
       "      <th>96</th>\n",
       "      <td>해리 포터와 죽음의 성물 - 1부</td>\n",
       "      <td>10</td>\n",
       "      <td></td>\n",
       "    </tr>\n",
       "    <tr>\n",
       "      <th>97</th>\n",
       "      <td>조제</td>\n",
       "      <td>8</td>\n",
       "      <td>일본 원작과는 다른 느낌이지만, 애잔한 감동을 주네요.조제와 영석이 어디선가 행복하...</td>\n",
       "    </tr>\n",
       "    <tr>\n",
       "      <th>98</th>\n",
       "      <td>헌터 킬러</td>\n",
       "      <td>9</td>\n",
       "      <td>긴장감 넘치는 연출 매끄러운 구성 스피디한 전개 거의 흠이 없음.</td>\n",
       "    </tr>\n",
       "    <tr>\n",
       "      <th>99</th>\n",
       "      <td>악마를 보았다</td>\n",
       "      <td>10</td>\n",
       "      <td>대한민국견찰하테넘길바에 저런복수가맞지</td>\n",
       "    </tr>\n",
       "  </tbody>\n",
       "</table>\n",
       "<p>100 rows × 3 columns</p>\n",
       "</div>"
      ],
      "text/plain": [
       "                    제목  평점                                                 리뷰\n",
       "0               타이타닉 2   1                                      2.22점을 위한 노오력\n",
       "1              리틀 포레스트  10                자극적인 맛이 아닌 깨끗하고 슴슴한 맛. 하지만 다양하고 깊다.\n",
       "2                리틀 이블   6  연출과 편집은 깔끔했지만 중후반부 부터 똘끼가 떨어지며 이야기의 맥이 죽었다. 더 ...\n",
       "3                    콜  10                                전종서 연기가 믿고 보는 영화...\n",
       "4              월드 인베이젼   6  네이버 평점보고 봤다가 후회막급, 전형적인 미국뽕영화 해병은 영원하다며 한명 영웅만...\n",
       "..                 ...  ..                                                ...\n",
       "95                 차인표   5  평점 알바가 정말로 존재한 다는 것을 알게됨..절대로 기대하고 보면 안됨. 10점 ...\n",
       "96  해리 포터와 죽음의 성물 - 1부  10                                                   \n",
       "97                  조제   8  일본 원작과는 다른 느낌이지만, 애잔한 감동을 주네요.조제와 영석이 어디선가 행복하...\n",
       "98               헌터 킬러   9               긴장감 넘치는 연출 매끄러운 구성 스피디한 전개 거의 흠이 없음.\n",
       "99             악마를 보았다  10                               대한민국견찰하테넘길바에 저런복수가맞지\n",
       "\n",
       "[100 rows x 3 columns]"
      ]
     },
     "execution_count": 32,
     "metadata": {},
     "output_type": "execute_result"
    }
   ],
   "source": [
    "df"
   ]
  }
 ],
 "metadata": {
  "kernelspec": {
   "display_name": "Python 3",
   "language": "python",
   "name": "python3"
  },
  "language_info": {
   "codemirror_mode": {
    "name": "ipython",
    "version": 3
   },
   "file_extension": ".py",
   "mimetype": "text/x-python",
   "name": "python",
   "nbconvert_exporter": "python",
   "pygments_lexer": "ipython3",
   "version": "3.8.3"
  }
 },
 "nbformat": 4,
 "nbformat_minor": 4
}
