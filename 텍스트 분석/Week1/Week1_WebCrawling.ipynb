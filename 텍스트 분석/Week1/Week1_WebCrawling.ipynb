{
 "cells": [
  {
   "cell_type": "markdown",
   "metadata": {},
   "source": [
    "웹 크롤링\n",
    "=========\n",
    "\n",
    "*how to?*\n",
    "---------\n",
    "\n",
    "> ### **1.필요한 모듈 불러오기**\n",
    ">>     from bs4 import BeautifulSoup , import requests \n",
    "> ### **2. html 구조 이해하기**\n",
    ">> * mac-> 개발자 도구 활성화 - 페이지 소스 보기/ 윈도우 - F12\n",
    ">> * <여는태그 속성명=\"속성값\">내용</닫는태그>\n",
    ">> * <태그 class = \"클래스명\" > \n",
    ">>> ex) div : 구역 표시하는 태그, p : 문단 표시하는 태그, body : 실제적으로 보여지는 부분 나타내는 태그...\n",
    "\n",
    "> ### **3.텍스트 잘 뽑아오기**\n",
    ">>    위치 정확히 지정, 클래스나 태그 명 잘 보기.\n",
    ">>>     find(id='id명')\n",
    "    findAll('tag') or find_all('tag)\n",
    "    findAll('tag', {class:'class'})\n",
    "    find('class')\n",
    "    select('위계구조')\n",
    "    select_one('원하는 것')\n",
    "    \n",
    ">>>>**Select 와 find의 차이점**\n",
    ">>>>>select finds multiple instances and returns a list, find finds the first, so they don't do the same thing. select_one would be the equivalent to find.\n",
    "    \n",
    ">>>> \n",
    "    get_text()\n",
    "    text()\n",
    "    next_sibling : 텍스트 노드인 경우\n",
    "\n",
    "\n",
    "\n",
    "### 1. IDMB 영화 리뷰 크롤링"
   ]
  },
  {
   "cell_type": "code",
   "execution_count": 1,
   "metadata": {},
   "outputs": [],
   "source": [
    "# 1. 웹크롤링에 필요한 2가지 모듈 호출\n",
    "from urllib.request import urlopen # 특정 웹서버에 접근\n",
    "from bs4 import BeautifulSoup # 웹페이지 내용구조 해석\n",
    "import requests #파이썬에서 http 요청 보내는 라이브러리 \n",
    "from urllib import parse\n",
    "from bs4 import BeautifulSoup #html 구조에서 간딴히 정보 빼내기 위해 사용하는 라이브러리\n",
    "\n",
    "#url 지정\n",
    "url= 'https://www.imdb.com/title/tt4154756/reviews?ref_=tt_ql_3'\n",
    "url  = url.format(1)\n",
    "\n",
    "#webpage에 urlopen으로 열어줘서 할당\n",
    "res = requests.get(url)\n",
    "\n",
    "\n",
    "#source 파일에....\n",
    "source = BeautifulSoup(res.text, 'html.parser')"
   ]
  },
  {
   "cell_type": "code",
   "execution_count": 2,
   "metadata": {},
   "outputs": [],
   "source": [
    "# #자바html 형식으로 되어있음.\n",
    "# source"
   ]
  },
  {
   "cell_type": "code",
   "execution_count": 3,
   "metadata": {},
   "outputs": [],
   "source": [
    "review_list = source.find_all('div', {'class': 'imdb-user-review'})\n",
    "review_p = source.p.string\n",
    "review_list2 = source.find_all(['a','span'])\n",
    "review_only =  source.find_all('div',{'class': \"text show-more__control\"})"
   ]
  },
  {
   "cell_type": "code",
   "execution_count": 26,
   "metadata": {},
   "outputs": [
    {
     "data": {
      "text/plain": [
       "<div class=\"lister-item mode-detail imdb-user-review collapsable\" data-review-id=\"rw5504583\" data-vote-url=\"/title/tt4154756/review/rw5504583/vote/interesting\">\n",
       "<div class=\"review-container\">\n",
       "<div class=\"lister-item-content\">\n",
       "<div class=\"ipl-ratings-bar\">\n",
       "<span class=\"rating-other-user-rating\">\n",
       "<svg class=\"ipl-icon ipl-star-icon \" fill=\"#000000\" height=\"24\" viewbox=\"0 0 24 24\" width=\"24\" xmlns=\"http://www.w3.org/2000/svg\">\n",
       "<path d=\"M0 0h24v24H0z\" fill=\"none\"></path>\n",
       "<path d=\"M12 17.27L18.18 21l-1.64-7.03L22 9.24l-7.19-.61L12 2 9.19 8.63 2 9.24l5.46 4.73L5.82 21z\"></path>\n",
       "<path d=\"M0 0h24v24H0z\" fill=\"none\"></path>\n",
       "</svg>\n",
       "<span>9</span><span class=\"point-scale\">/10</span>\n",
       "</span>\n",
       "</div>\n",
       "<a class=\"title\" href=\"/review/rw5504583/\"> Great\n",
       "</a> <div class=\"display-name-date\">\n",
       "<span class=\"display-name-link\"><a href=\"/user/ur87850731/\">MR_Heraclius</a></span><span class=\"review-date\">23 February 2020</span>\n",
       "</div>\n",
       "<div class=\"content\">\n",
       "<div class=\"text show-more__control\">This movie portrays a villain that by far has been the best out of all the other Marvel antagonists. It shows his personal conflicts, his purpose, as well as his cruelty. The heroes of this film are overshadowed by this, but the ending really makes a mark on the audience.</div>\n",
       "<div class=\"actions text-muted\">\n",
       "                    129 out of 150 found this helpful.\n",
       "                        <span>\n",
       "                            Was this review helpful? <a href=\"/registration/signin\"> Sign in</a> to vote.\n",
       "                        </span>\n",
       "<br/>\n",
       "<a href=\"/review/rw5504583/\">Permalink</a>\n",
       "</div>\n",
       "</div>\n",
       "</div>\n",
       "<div class=\"clear\"></div>\n",
       "</div>\n",
       "<div class=\"gradient-expander hidden show-more\">\n",
       "<div class=\"gradient-container show-more__control\"></div>\n",
       "<div class=\"gradient-footer\">\n",
       "<div class=\"ipl-expander \">\n",
       "<div class=\"ipl-expander__container\">\n",
       "<div class=\"expander-icon-wrapper show-more__control\">\n",
       "<svg class=\"ipl-expander__icon expander-icon \" height=\"8\" viewbox=\"0 0 12 8\" width=\"12\" xmlns=\"http://www.w3.org/2000/svg\">\n",
       "<path d=\"M10.197 0L6 4.304 1.803 0 0 1.85 6 8l6-6.15\" fill=\"#2572B3\" fill-rule=\"evenodd\"></path>\n",
       "</svg>\n",
       "</div>\n",
       "</div>\n",
       "</div>\n",
       "</div>\n",
       "</div>\n",
       "</div>"
      ]
     },
     "execution_count": 26,
     "metadata": {},
     "output_type": "execute_result"
    }
   ],
   "source": [
    "review_list[0]"
   ]
  },
  {
   "cell_type": "code",
   "execution_count": 4,
   "metadata": {},
   "outputs": [],
   "source": [
    "#화면 속 글자만 가져오고 싶다!!\n",
    "# for review in review_list:\n",
    "#     print(review.get_text().strip())"
   ]
  },
  {
   "cell_type": "code",
   "execution_count": 5,
   "metadata": {},
   "outputs": [],
   "source": [
    "# lis = source.select('div.lister-list > div.imdb-user-review')\n",
    "\n",
    "# for i in range(len(lis)):\n",
    "#     score = lis[i].find('span').text.strip()[0]\n",
    "#     text = lis[i].find('div',{'class':'text show-more__control'}).text.strip()\n",
    "#     print('score :' + score)\n",
    "#     print('    ')\n",
    "#     print('comment: ' + text)\n",
    "#     print('    ')"
   ]
  },
  {
   "cell_type": "markdown",
   "metadata": {},
   "source": [
    "## *코로나 현황 크롤링 실습* \n",
    "간단 ver."
   ]
  },
  {
   "cell_type": "code",
   "execution_count": 6,
   "metadata": {},
   "outputs": [],
   "source": [
    "# 오늘의 코로나 현황\n",
    "\n",
    "webpage = urlopen('http://ncov.mohw.go.kr/') #웹페이지 url 끌어오기\n",
    "source_corona = BeautifulSoup(webpage, 'html.parser',from_encoding='utf-8') #html.parser 이용하여 html 구조 가져오기"
   ]
  },
  {
   "cell_type": "code",
   "execution_count": 7,
   "metadata": {},
   "outputs": [],
   "source": [
    "# source_corona"
   ]
  },
  {
   "cell_type": "code",
   "execution_count": 8,
   "metadata": {},
   "outputs": [],
   "source": [
    "#웹페이지 개발자 도구 (윈도우는 f12, 맥은 사파리 설정)\n",
    "#원하는 부분의 <A class =  B> \n",
    "#변수 = 위의 source.findAll( A, {'class':'B'})\n",
    "\n",
    "div = source_corona.findAll('span',{'class': 'data'}) "
   ]
  },
  {
   "cell_type": "code",
   "execution_count": 9,
   "metadata": {},
   "outputs": [
    {
     "data": {
      "text/plain": [
       "[<span class=\"data\">833</span>, <span class=\"data\">37</span>]"
      ]
     },
     "execution_count": 9,
     "metadata": {},
     "output_type": "execute_result"
    }
   ],
   "source": [
    "#html의 구조 get\n",
    "div"
   ]
  },
  {
   "cell_type": "code",
   "execution_count": 10,
   "metadata": {},
   "outputs": [
    {
     "name": "stdout",
     "output_type": "stream",
     "text": [
      "833\n",
      "37\n"
     ]
    }
   ],
   "source": [
    "#여기서 필요한 텍스트만 뽑아볼 것임\n",
    "for a in div:\n",
    "    print(a.get_text().strip())"
   ]
  },
  {
   "cell_type": "code",
   "execution_count": 11,
   "metadata": {},
   "outputs": [],
   "source": [
    "#리스트화 시켜서 프린트 할 때 편하게...\n",
    "list = []\n",
    "for a in div:\n",
    "    list.append(a.get_text())"
   ]
  },
  {
   "cell_type": "code",
   "execution_count": 12,
   "metadata": {},
   "outputs": [
    {
     "data": {
      "text/plain": [
       "['833', '37']"
      ]
     },
     "execution_count": 12,
     "metadata": {},
     "output_type": "execute_result"
    }
   ],
   "source": [
    "list"
   ]
  },
  {
   "cell_type": "code",
   "execution_count": 13,
   "metadata": {},
   "outputs": [
    {
     "name": "stdout",
     "output_type": "stream",
     "text": [
      ">> #오늘의 #국내 #코로나19 #현황 \n",
      "\n",
      "국내 유입: 833 해외유입: 37\n"
     ]
    }
   ],
   "source": [
    "print('>> #오늘의 #국내 #코로나19 #현황 \\n')\n",
    "print('국내 유입:' ,list[0], '해외유입:' , list[1])"
   ]
  },
  {
   "cell_type": "markdown",
   "metadata": {},
   "source": [
    "*여러 페이지에 있는 리뷰 크롤링하고, 파일로 저장하기*\n",
    "========"
   ]
  },
  {
   "cell_type": "markdown",
   "metadata": {},
   "source": [
    "> ### 1. 제목, 평점, 리뷰 들어있는 csv 만들어보기 \n",
    ">>#### 네이버 평점, 리뷰 칸 속 평점.리뷰 들어가보면 여러개의 리뷰들이 나옴.\n",
    ">### 2. html의 구조를 살펴보면\n",
    ">>#### table.list_netizen > tbody > tr > td.title 속에 내용 다 있음.\n",
    ">>>#### 제목 => a.movie.color_b\n",
    ">>>#### 평점 => div.list_netizen_score > em\n",
    ">>>#### 리뷰 => br 하위의 텍스트를 반환해야하는 것. => br.next_sibling 사용."
   ]
  },
  {
   "cell_type": "code",
   "execution_count": 14,
   "metadata": {},
   "outputs": [
    {
     "name": "stdout",
     "output_type": "stream",
     "text": [
      "10\n"
     ]
    }
   ],
   "source": [
    "import requests #파이썬에서 http 요청 보내는 라이브러리 \n",
    "from urllib import parse\n",
    "from bs4 import BeautifulSoup #html 구조에서 간딴히 정보 빼내기 위해 사용하는 라이브러리\n",
    "url = 'https://movie.naver.com/movie/point/af/list.nhn?&page=1'\n",
    "res = requests.get(url)\n",
    "\n",
    "soup = BeautifulSoup(res.text,'lxml')\n",
    "tds = soup.select('table.list_netizen > tbody > tr > td.title')\n",
    "print(len(tds))\n"
   ]
  },
  {
   "cell_type": "code",
   "execution_count": 15,
   "metadata": {},
   "outputs": [],
   "source": [
    "# tds"
   ]
  },
  {
   "cell_type": "code",
   "execution_count": 16,
   "metadata": {},
   "outputs": [
    {
     "name": "stdout",
     "output_type": "stream",
     "text": [
      "마라가 큰 결정을 해야 해 / 10 / 오늘 볼거지롱 딱봐도 잼날거 같지 않음?\n",
      "미스터 빈의 홀리데이 / 10 / 시대를 타지 않는 명화~\n",
      "조작된 도시 / 10 / 왜 이걸 극장에서 못봤지.\n",
      "나이브스 아웃 / 10 / 최고로 재미있던 추리 영화\n",
      "걸 / 10 / 부국제에서 보고 ㅠㅜ 감동받았는데 드디어개봉하는구나,\n",
      "걸 / 10 / 정말 감동적인 영화!!\n",
      "달마야, 서울 가자 / 10 / \n",
      "국제수사 / 1 / 평점은 역시 다음이daum 정확하다 네이버는 존나 후하네\n",
      "걸 / 10 / \n",
      "이웃사촌 / 1 / 진짜 삼각하게 재미없네\n"
     ]
    }
   ],
   "source": [
    "comment_list=[]\n",
    "for td in tds: \n",
    "    movie_title = td.find('a').text.strip()\n",
    "    link = td.select_one('a.movie.color_b').get('href')\n",
    "    link = parse.urljoin('https://movie.naver.com/movie/point/af/list.nhn?&page=2', link)\n",
    "    score = td.select_one('div.list_netizen_score > em ').text.strip()\n",
    "    comment = td.select_one('br').next_sibling.strip()\n",
    "    comment_list.append((movie_title,score, comment))\n",
    "    \n",
    "    print(movie_title, score, comment, sep=\" / \")"
   ]
  },
  {
   "cell_type": "code",
   "execution_count": 17,
   "metadata": {},
   "outputs": [],
   "source": [
    "import pandas as pd\n",
    "\n",
    "df = pd.DataFrame(comment_list, columns=['제목','평점','리뷰'])\n",
    "df.to_csv('naver_comment.csv', encoding= 'utf-8', index=False)"
   ]
  },
  {
   "cell_type": "markdown",
   "metadata": {},
   "source": [
    "### 만약 두번째 페이지도 이어서 크롤링하고 싶다면? For 문을 사용하자!\n",
    "\n",
    "https://movie.naver.com/movie/point/af/list.nhn?&page=1\n",
    "\n",
    "\n",
    "https://movie.naver.com/movie/point/af/list.nhn?&page=2\n",
    "\n",
    "\n",
    "이런식으로 페이지 뒷부분에 숫자의 변화가 생김."
   ]
  },
  {
   "cell_type": "code",
   "execution_count": 18,
   "metadata": {},
   "outputs": [
    {
     "name": "stdout",
     "output_type": "stream",
     "text": [
      "종료\n"
     ]
    }
   ],
   "source": [
    "base_url = 'https://movie.naver.com/movie/point/af/list.nhn?&page={}'\n",
    "comment_list=[]\n",
    "import time\n",
    "import random\n",
    "\n",
    "for page in range (10):\n",
    "    url = base_url.format(page)\n",
    "    res = requests.get(url)\n",
    "    \n",
    "    soup = BeautifulSoup(res.text,'lxml')\n",
    "    tds = soup.select('table.list_netizen > tbody > tr > td.title')\n",
    "    \n",
    "    for td in tds: \n",
    "        movie_title = td.find('a').text.strip()\n",
    "        link = td.select_one('a.movie.color_b').get('href')\n",
    "        link = parse.urljoin('https://movie.naver.com/movie/point/af/list.nhn?&page=2', link)\n",
    "        score = td.select_one('div.list_netizen_score > em ').text.strip()\n",
    "        comment = td.select_one('br').next_sibling.strip()\n",
    "        comment_list.append((movie_title,score, comment))\n",
    "\n",
    "    interval = round(random.uniform(0.2,1),2)\n",
    "    time.sleep(interval)\n",
    "\n",
    "print('종료')"
   ]
  },
  {
   "cell_type": "code",
   "execution_count": 19,
   "metadata": {},
   "outputs": [],
   "source": [
    "df = pd.DataFrame(comment_list, columns=['제목','평점','리뷰'])\n",
    "df.to_csv('naver_comment.csv', encoding= 'utf-8', index=False)"
   ]
  },
  {
   "cell_type": "code",
   "execution_count": 20,
   "metadata": {},
   "outputs": [
    {
     "data": {
      "text/html": [
       "<div>\n",
       "<style scoped>\n",
       "    .dataframe tbody tr th:only-of-type {\n",
       "        vertical-align: middle;\n",
       "    }\n",
       "\n",
       "    .dataframe tbody tr th {\n",
       "        vertical-align: top;\n",
       "    }\n",
       "\n",
       "    .dataframe thead th {\n",
       "        text-align: right;\n",
       "    }\n",
       "</style>\n",
       "<table border=\"1\" class=\"dataframe\">\n",
       "  <thead>\n",
       "    <tr style=\"text-align: right;\">\n",
       "      <th></th>\n",
       "      <th>제목</th>\n",
       "      <th>평점</th>\n",
       "      <th>리뷰</th>\n",
       "    </tr>\n",
       "  </thead>\n",
       "  <tbody>\n",
       "    <tr>\n",
       "      <th>0</th>\n",
       "      <td>마라가 큰 결정을 해야 해</td>\n",
       "      <td>10</td>\n",
       "      <td>오늘 볼거지롱 딱봐도 잼날거 같지 않음?</td>\n",
       "    </tr>\n",
       "    <tr>\n",
       "      <th>1</th>\n",
       "      <td>미스터 빈의 홀리데이</td>\n",
       "      <td>10</td>\n",
       "      <td>시대를 타지 않는 명화~</td>\n",
       "    </tr>\n",
       "    <tr>\n",
       "      <th>2</th>\n",
       "      <td>조작된 도시</td>\n",
       "      <td>10</td>\n",
       "      <td>왜 이걸 극장에서 못봤지.</td>\n",
       "    </tr>\n",
       "    <tr>\n",
       "      <th>3</th>\n",
       "      <td>나이브스 아웃</td>\n",
       "      <td>10</td>\n",
       "      <td>최고로 재미있던 추리 영화</td>\n",
       "    </tr>\n",
       "    <tr>\n",
       "      <th>4</th>\n",
       "      <td>걸</td>\n",
       "      <td>10</td>\n",
       "      <td>부국제에서 보고 ㅠㅜ 감동받았는데 드디어개봉하는구나,</td>\n",
       "    </tr>\n",
       "    <tr>\n",
       "      <th>...</th>\n",
       "      <td>...</td>\n",
       "      <td>...</td>\n",
       "      <td>...</td>\n",
       "    </tr>\n",
       "    <tr>\n",
       "      <th>95</th>\n",
       "      <td>클로젯</td>\n",
       "      <td>7</td>\n",
       "      <td>햐. 감동을 원하냐? 공포를 원하냐? 뭐냐</td>\n",
       "    </tr>\n",
       "    <tr>\n",
       "      <th>96</th>\n",
       "      <td>마 레이니, 그녀가 블루스</td>\n",
       "      <td>7</td>\n",
       "      <td>절반 이상이 지하 연습실에서 밴드의 대화지만 음악은 훌륭하고 채드윅의 분노가 잘 녹아있는</td>\n",
       "    </tr>\n",
       "    <tr>\n",
       "      <th>97</th>\n",
       "      <td>악마는 사라지지 않는다</td>\n",
       "      <td>10</td>\n",
       "      <td>인간의 욕망과 자의적인 종교적 행태가 낳은 인간의 파멸을 아주 섬세하게 다룬 드라마.</td>\n",
       "    </tr>\n",
       "    <tr>\n",
       "      <th>98</th>\n",
       "      <td>원더 우먼 1984</td>\n",
       "      <td>1</td>\n",
       "      <td>심형래 영화인줄 유치해서 버티기 힘들었다</td>\n",
       "    </tr>\n",
       "    <tr>\n",
       "      <th>99</th>\n",
       "      <td>바람의 검심</td>\n",
       "      <td>9</td>\n",
       "      <td>감독의 연출실력이 대단하다. 지극히 만화스러운 소재와 지극히 걸작인 원작, 부담이 ...</td>\n",
       "    </tr>\n",
       "  </tbody>\n",
       "</table>\n",
       "<p>100 rows × 3 columns</p>\n",
       "</div>"
      ],
      "text/plain": [
       "                제목  평점                                                 리뷰\n",
       "0   마라가 큰 결정을 해야 해  10                             오늘 볼거지롱 딱봐도 잼날거 같지 않음?\n",
       "1      미스터 빈의 홀리데이  10                                      시대를 타지 않는 명화~\n",
       "2           조작된 도시  10                                     왜 이걸 극장에서 못봤지.\n",
       "3          나이브스 아웃  10                                     최고로 재미있던 추리 영화\n",
       "4                걸  10                      부국제에서 보고 ㅠㅜ 감동받았는데 드디어개봉하는구나,\n",
       "..             ...  ..                                                ...\n",
       "95             클로젯   7                            햐. 감동을 원하냐? 공포를 원하냐? 뭐냐\n",
       "96  마 레이니, 그녀가 블루스   7  절반 이상이 지하 연습실에서 밴드의 대화지만 음악은 훌륭하고 채드윅의 분노가 잘 녹아있는\n",
       "97    악마는 사라지지 않는다  10    인간의 욕망과 자의적인 종교적 행태가 낳은 인간의 파멸을 아주 섬세하게 다룬 드라마.\n",
       "98      원더 우먼 1984   1                             심형래 영화인줄 유치해서 버티기 힘들었다\n",
       "99          바람의 검심   9  감독의 연출실력이 대단하다. 지극히 만화스러운 소재와 지극히 걸작인 원작, 부담이 ...\n",
       "\n",
       "[100 rows x 3 columns]"
      ]
     },
     "execution_count": 20,
     "metadata": {},
     "output_type": "execute_result"
    }
   ],
   "source": [
    "df"
   ]
  },
  {
   "cell_type": "code",
   "execution_count": null,
   "metadata": {},
   "outputs": [],
   "source": []
  }
 ],
 "metadata": {
  "kernelspec": {
   "display_name": "Python 3",
   "language": "python",
   "name": "python3"
  },
  "language_info": {
   "codemirror_mode": {
    "name": "ipython",
    "version": 3
   },
   "file_extension": ".py",
   "mimetype": "text/x-python",
   "name": "python",
   "nbconvert_exporter": "python",
   "pygments_lexer": "ipython3",
   "version": "3.8.3"
  }
 },
 "nbformat": 4,
 "nbformat_minor": 4
}
